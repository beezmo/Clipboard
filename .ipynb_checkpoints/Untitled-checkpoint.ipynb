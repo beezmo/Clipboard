{
 "cells": [
  {
   "cell_type": "code",
   "execution_count": 1,
   "metadata": {},
   "outputs": [],
   "source": [
    "import pandas as pd\n",
    "data1 = \"1_paid_marketing.csv\"\n",
    "data2 = \"2_hcp_data.csv\"\n",
    "data3 = \"3_shifts_data.csv\"\n",
    "campaigns = pd.read_csv(data1)\n",
    "hcp = pd.read_csv(data2)\n",
    "shifts = pd.read_csv(data3)"
   ]
  },
  {
   "cell_type": "code",
   "execution_count": 2,
   "metadata": {},
   "outputs": [
    {
     "data": {
      "text/html": [
       "<div>\n",
       "<style scoped>\n",
       "    .dataframe tbody tr th:only-of-type {\n",
       "        vertical-align: middle;\n",
       "    }\n",
       "\n",
       "    .dataframe tbody tr th {\n",
       "        vertical-align: top;\n",
       "    }\n",
       "\n",
       "    .dataframe thead th {\n",
       "        text-align: right;\n",
       "    }\n",
       "</style>\n",
       "<table border=\"1\" class=\"dataframe\">\n",
       "  <thead>\n",
       "    <tr style=\"text-align: right;\">\n",
       "      <th></th>\n",
       "      <th>CAMPAIGN_ID</th>\n",
       "      <th>CAMPAIGN_TYPE</th>\n",
       "      <th>DAY</th>\n",
       "      <th>COST</th>\n",
       "      <th>IMPRESSIONS</th>\n",
       "      <th>CLICKS</th>\n",
       "    </tr>\n",
       "  </thead>\n",
       "  <tbody>\n",
       "    <tr>\n",
       "      <th>0</th>\n",
       "      <td>13743509691</td>\n",
       "      <td>Google Search</td>\n",
       "      <td>9/1/22</td>\n",
       "      <td>$199.36</td>\n",
       "      <td>1,184</td>\n",
       "      <td>57</td>\n",
       "    </tr>\n",
       "    <tr>\n",
       "      <th>1</th>\n",
       "      <td>13743509691</td>\n",
       "      <td>Google Search</td>\n",
       "      <td>9/3/22</td>\n",
       "      <td>$108.69</td>\n",
       "      <td>105</td>\n",
       "      <td>31</td>\n",
       "    </tr>\n",
       "    <tr>\n",
       "      <th>2</th>\n",
       "      <td>13743509691</td>\n",
       "      <td>Google Search</td>\n",
       "      <td>9/4/22</td>\n",
       "      <td>$188.79</td>\n",
       "      <td>794</td>\n",
       "      <td>49</td>\n",
       "    </tr>\n",
       "    <tr>\n",
       "      <th>3</th>\n",
       "      <td>13743509691</td>\n",
       "      <td>Google Search</td>\n",
       "      <td>9/5/22</td>\n",
       "      <td>$198.47</td>\n",
       "      <td>1,069</td>\n",
       "      <td>52</td>\n",
       "    </tr>\n",
       "    <tr>\n",
       "      <th>4</th>\n",
       "      <td>13743509691</td>\n",
       "      <td>Google Search</td>\n",
       "      <td>9/8/22</td>\n",
       "      <td>$900.51</td>\n",
       "      <td>2,979</td>\n",
       "      <td>213</td>\n",
       "    </tr>\n",
       "  </tbody>\n",
       "</table>\n",
       "</div>"
      ],
      "text/plain": [
       "   CAMPAIGN_ID  CAMPAIGN_TYPE     DAY      COST   IMPRESSIONS   CLICKS \n",
       "0  13743509691  Google Search  9/1/22   $199.36         1,184       57 \n",
       "1  13743509691  Google Search  9/3/22   $108.69           105       31 \n",
       "2  13743509691  Google Search  9/4/22   $188.79           794       49 \n",
       "3  13743509691  Google Search  9/5/22   $198.47         1,069       52 \n",
       "4  13743509691  Google Search  9/8/22   $900.51         2,979      213 "
      ]
     },
     "execution_count": 2,
     "metadata": {},
     "output_type": "execute_result"
    }
   ],
   "source": [
    "campaigns.head()"
   ]
  },
  {
   "cell_type": "code",
   "execution_count": 3,
   "metadata": {},
   "outputs": [
    {
     "data": {
      "text/plain": [
       "Index(['CAMPAIGN_ID', 'CAMPAIGN_TYPE', 'DAY', ' COST ', ' IMPRESSIONS ',\n",
       "       ' CLICKS '],\n",
       "      dtype='object')"
      ]
     },
     "execution_count": 3,
     "metadata": {},
     "output_type": "execute_result"
    }
   ],
   "source": [
    "campaigns.columns"
   ]
  },
  {
   "cell_type": "code",
   "execution_count": 4,
   "metadata": {},
   "outputs": [
    {
     "data": {
      "text/plain": [
       "CAMPAIGN_ID      object\n",
       "CAMPAIGN_TYPE    object\n",
       "DAY              object\n",
       " COST            object\n",
       " IMPRESSIONS     object\n",
       " CLICKS          object\n",
       "dtype: object"
      ]
     },
     "execution_count": 4,
     "metadata": {},
     "output_type": "execute_result"
    }
   ],
   "source": [
    "campaigns.dtypes"
   ]
  },
  {
   "cell_type": "raw",
   "metadata": {},
   "source": [
    "campaigns[' COST '] = campaigns[' COST '].str.replace('$','')\n",
    "print(pd.to_numeric(campaigns[' COST '].str.replace('$','')"
   ]
  },
  {
   "cell_type": "code",
   "execution_count": null,
   "metadata": {},
   "outputs": [],
   "source": [
    "campaigns[' COST '].apply(lambda x: x.replace('$', '').replace(',', '')).astype('float')\n",
    "campaigns[' IMPRESSIONS '].apply(lambda x: x.replace(',', '')).astype('int')\n",
    "campaigns[' CLICKS '].apply(lambda x: x.replace(',', '')).astype('int')\n",
    "campaigns.head(200)"
   ]
  },
  {
   "cell_type": "code",
   "execution_count": null,
   "metadata": {},
   "outputs": [],
   "source": [
    "campaigns['DAY'] = pd.to_datetime(campaigns['DAY'])\n",
    "campaigns['DAY'] = pd.to_datetime(campaigns['DAY'])\n",
    "campaigns['DAY'] = pd.to_datetime(campaigns['DAY'])"
   ]
  }
 ],
 "metadata": {
  "kernelspec": {
   "display_name": "Python 3",
   "language": "python",
   "name": "python3"
  },
  "language_info": {
   "codemirror_mode": {
    "name": "ipython",
    "version": 3
   },
   "file_extension": ".py",
   "mimetype": "text/x-python",
   "name": "python",
   "nbconvert_exporter": "python",
   "pygments_lexer": "ipython3",
   "version": "3.6.8"
  }
 },
 "nbformat": 4,
 "nbformat_minor": 2
}
