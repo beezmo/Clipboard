{
 "cells": [
  {
   "cell_type": "markdown",
   "metadata": {},
   "source": [
    "# Further Exploration into Lifetime Return Differences"
   ]
  },
  {
   "cell_type": "markdown",
   "metadata": {},
   "source": [
    "With data limited to 1 year, previous calculations on lifetime return of referred vs nonreferred accounts may prove inaccurate due to lack of data of newly created accounts. This section looks into lifetime return of accounts that were activated earlier in the provided data. "
   ]
  },
  {
   "cell_type": "code",
   "execution_count": 1,
   "metadata": {},
   "outputs": [],
   "source": [
    "import pandas as pd\n",
    "import numpy as np\n",
    "data1 = \"1_paid_marketing.csv\"\n",
    "data2 = \"2_hcp_data.csv\"\n",
    "data3 = \"3_shifts_data.csv\"\n",
    "campaigns = pd.read_csv(data1)\n",
    "hcp = pd.read_csv(data2)\n",
    "shifts = pd.read_csv(data3)"
   ]
  },
  {
   "cell_type": "code",
   "execution_count": 2,
   "metadata": {},
   "outputs": [],
   "source": [
    "# Convert datatype of 'lifetime shifts' and 'first shift time'\n",
    "hcp.LIFETIME_SHIFTS = pd.to_numeric(hcp['LIFETIME_SHIFTS'], errors='coerce')\n",
    "hcp.FIRST_SHIFT_TIME = pd.to_datetime(hcp['FIRST_SHIFT_TIME'], errors='coerce')"
   ]
  },
  {
   "cell_type": "code",
   "execution_count": 3,
   "metadata": {},
   "outputs": [],
   "source": [
    "# Split up accounts based on time of first shift. Either 1st or 2nd half of 2022\n",
    "hcp = hcp.set_index('FIRST_SHIFT_TIME')\n",
    "hcp1 = hcp.loc['2022-01':'2022-06'].copy()\n",
    "hcp2 = hcp.loc['2022-07':'2023-01'].copy()"
   ]
  },
  {
   "cell_type": "code",
   "execution_count": 4,
   "metadata": {},
   "outputs": [
    {
     "name": "stdout",
     "output_type": "stream",
     "text": [
      "Avg shifts of accounts active in 1st half: 20.295779274100838\n",
      "Avg shifts of accounts active in 2nd half: 14.65558912386707\n"
     ]
    }
   ],
   "source": [
    "# Showing how accounts made active in 1st half worked more shifts\n",
    "print('Avg shifts of accounts active in 1st half: ' + str(hcp1['LIFETIME_SHIFTS'].mean()))\n",
    "print('Avg shifts of accounts active in 2nd half: ' + str(hcp2['LIFETIME_SHIFTS'].mean()))"
   ]
  },
  {
   "cell_type": "code",
   "execution_count": null,
   "metadata": {},
   "outputs": [],
   "source": []
  },
  {
   "cell_type": "code",
   "execution_count": 5,
   "metadata": {},
   "outputs": [
    {
     "name": "stdout",
     "output_type": "stream",
     "text": [
      "In the first half of 2022:\n",
      "Total accounts created: 6089\n",
      "Total unique referrers: 1536\n"
     ]
    }
   ],
   "source": [
    "tot_accounts = hcp1['HCP_ID'].count()\n",
    "unique_referrers = hcp1['REFERRER'].value_counts().count()\n",
    "\n",
    "\n",
    "print('In the first half of 2022:')\n",
    "print('Total accounts created: ' + str(tot_accounts))\n",
    "print('Total unique referrers: ' + str(unique_referrers))\n"
   ]
  },
  {
   "cell_type": "code",
   "execution_count": 6,
   "metadata": {},
   "outputs": [
    {
     "data": {
      "text/html": [
       "<div>\n",
       "<style scoped>\n",
       "    .dataframe tbody tr th:only-of-type {\n",
       "        vertical-align: middle;\n",
       "    }\n",
       "\n",
       "    .dataframe tbody tr th {\n",
       "        vertical-align: top;\n",
       "    }\n",
       "\n",
       "    .dataframe thead th {\n",
       "        text-align: right;\n",
       "    }\n",
       "</style>\n",
       "<table border=\"1\" class=\"dataframe\">\n",
       "  <thead>\n",
       "    <tr style=\"text-align: right;\">\n",
       "      <th></th>\n",
       "      <th>HCP_ID</th>\n",
       "      <th>MSA</th>\n",
       "      <th>QUALIFICATION</th>\n",
       "      <th>CREATED_AT</th>\n",
       "      <th>LICENSE_REVIEWED</th>\n",
       "      <th>ONBOARD_AT</th>\n",
       "      <th>FIRST_CLAIM_TIME</th>\n",
       "      <th>LIFETIME_SHIFTS</th>\n",
       "      <th>REFERRER</th>\n",
       "      <th>CAMPAIGN_KEY</th>\n",
       "    </tr>\n",
       "    <tr>\n",
       "      <th>FIRST_SHIFT_TIME</th>\n",
       "      <th></th>\n",
       "      <th></th>\n",
       "      <th></th>\n",
       "      <th></th>\n",
       "      <th></th>\n",
       "      <th></th>\n",
       "      <th></th>\n",
       "      <th></th>\n",
       "      <th></th>\n",
       "      <th></th>\n",
       "    </tr>\n",
       "  </thead>\n",
       "  <tbody>\n",
       "    <tr>\n",
       "      <th>2022-06-03</th>\n",
       "      <td>61e75e34dfb86b018a0d7cf7</td>\n",
       "      <td>Minneapolis-St. Paul-Bloomington, MN-WI</td>\n",
       "      <td>CNA</td>\n",
       "      <td>1/19/22</td>\n",
       "      <td>5/24/22</td>\n",
       "      <td>5/24/22</td>\n",
       "      <td>6/1/22</td>\n",
       "      <td>49.0</td>\n",
       "      <td>None</td>\n",
       "      <td>15595984274</td>\n",
       "    </tr>\n",
       "    <tr>\n",
       "      <th>2022-06-29</th>\n",
       "      <td>62b2499e52b98c01b901cd9d</td>\n",
       "      <td>Chicago-Naperville-Elgin, IL-IN-WI</td>\n",
       "      <td>RN</td>\n",
       "      <td>6/21/22</td>\n",
       "      <td>6/22/22</td>\n",
       "      <td>6/22/22</td>\n",
       "      <td>6/29/22</td>\n",
       "      <td>2.0</td>\n",
       "      <td>62a48ae5691b0409a3c93073</td>\n",
       "      <td>16802693037</td>\n",
       "    </tr>\n",
       "    <tr>\n",
       "      <th>2022-02-28</th>\n",
       "      <td>61f962a1d6a2b2018a8e7159</td>\n",
       "      <td>Riverside-San Bernardino-Ontario, CA</td>\n",
       "      <td>CNA</td>\n",
       "      <td>2/1/22</td>\n",
       "      <td>2/1/22</td>\n",
       "      <td>2/16/22</td>\n",
       "      <td>2/17/22</td>\n",
       "      <td>70.0</td>\n",
       "      <td>None</td>\n",
       "      <td>18530777721</td>\n",
       "    </tr>\n",
       "    <tr>\n",
       "      <th>2022-05-20</th>\n",
       "      <td>626fd8342ccf7701c2d9d11d</td>\n",
       "      <td>Cleveland-Elyria, OH</td>\n",
       "      <td>CNA</td>\n",
       "      <td>5/2/22</td>\n",
       "      <td>5/2/22</td>\n",
       "      <td>5/13/22</td>\n",
       "      <td>5/15/22</td>\n",
       "      <td>23.0</td>\n",
       "      <td>None</td>\n",
       "      <td>17631861264</td>\n",
       "    </tr>\n",
       "    <tr>\n",
       "      <th>2022-06-20</th>\n",
       "      <td>62499dd3db204601acbd8311</td>\n",
       "      <td>Deltona-Daytona Beach-Ormond Beach, FL</td>\n",
       "      <td>CNA</td>\n",
       "      <td>4/3/22</td>\n",
       "      <td>4/3/22</td>\n",
       "      <td>4/3/22</td>\n",
       "      <td>4/3/22</td>\n",
       "      <td>2.0</td>\n",
       "      <td>623a97fbca145401acdf587c</td>\n",
       "      <td>18581898213</td>\n",
       "    </tr>\n",
       "  </tbody>\n",
       "</table>\n",
       "</div>"
      ],
      "text/plain": [
       "                                    HCP_ID  \\\n",
       "FIRST_SHIFT_TIME                             \n",
       "2022-06-03        61e75e34dfb86b018a0d7cf7   \n",
       "2022-06-29        62b2499e52b98c01b901cd9d   \n",
       "2022-02-28        61f962a1d6a2b2018a8e7159   \n",
       "2022-05-20        626fd8342ccf7701c2d9d11d   \n",
       "2022-06-20        62499dd3db204601acbd8311   \n",
       "\n",
       "                                                      MSA QUALIFICATION  \\\n",
       "FIRST_SHIFT_TIME                                                          \n",
       "2022-06-03        Minneapolis-St. Paul-Bloomington, MN-WI           CNA   \n",
       "2022-06-29             Chicago-Naperville-Elgin, IL-IN-WI            RN   \n",
       "2022-02-28           Riverside-San Bernardino-Ontario, CA           CNA   \n",
       "2022-05-20                           Cleveland-Elyria, OH           CNA   \n",
       "2022-06-20         Deltona-Daytona Beach-Ormond Beach, FL           CNA   \n",
       "\n",
       "                 CREATED_AT LICENSE_REVIEWED ONBOARD_AT FIRST_CLAIM_TIME  \\\n",
       "FIRST_SHIFT_TIME                                                           \n",
       "2022-06-03          1/19/22          5/24/22    5/24/22           6/1/22   \n",
       "2022-06-29          6/21/22          6/22/22    6/22/22          6/29/22   \n",
       "2022-02-28           2/1/22           2/1/22    2/16/22          2/17/22   \n",
       "2022-05-20           5/2/22           5/2/22    5/13/22          5/15/22   \n",
       "2022-06-20           4/3/22           4/3/22     4/3/22           4/3/22   \n",
       "\n",
       "                  LIFETIME_SHIFTS                  REFERRER CAMPAIGN_KEY  \n",
       "FIRST_SHIFT_TIME                                                          \n",
       "2022-06-03                   49.0                      None  15595984274  \n",
       "2022-06-29                    2.0  62a48ae5691b0409a3c93073  16802693037  \n",
       "2022-02-28                   70.0                      None  18530777721  \n",
       "2022-05-20                   23.0                      None  17631861264  \n",
       "2022-06-20                    2.0  623a97fbca145401acdf587c  18581898213  "
      ]
     },
     "execution_count": 6,
     "metadata": {},
     "output_type": "execute_result"
    }
   ],
   "source": [
    "hcp1['REFERRER'].fillna('None', inplace=True)\n",
    "hcp1.head()"
   ]
  },
  {
   "cell_type": "code",
   "execution_count": 9,
   "metadata": {},
   "outputs": [
    {
     "data": {
      "text/html": [
       "<div>\n",
       "<style scoped>\n",
       "    .dataframe tbody tr th:only-of-type {\n",
       "        vertical-align: middle;\n",
       "    }\n",
       "\n",
       "    .dataframe tbody tr th {\n",
       "        vertical-align: top;\n",
       "    }\n",
       "\n",
       "    .dataframe thead th {\n",
       "        text-align: right;\n",
       "    }\n",
       "</style>\n",
       "<table border=\"1\" class=\"dataframe\">\n",
       "  <thead>\n",
       "    <tr style=\"text-align: right;\">\n",
       "      <th></th>\n",
       "      <th>HCP_ID</th>\n",
       "      <th>MSA</th>\n",
       "      <th>QUALIFICATION</th>\n",
       "      <th>CREATED_AT</th>\n",
       "      <th>LICENSE_REVIEWED</th>\n",
       "      <th>ONBOARD_AT</th>\n",
       "      <th>FIRST_CLAIM_TIME</th>\n",
       "      <th>LIFETIME_SHIFTS</th>\n",
       "      <th>REFERRER</th>\n",
       "      <th>CAMPAIGN_KEY</th>\n",
       "    </tr>\n",
       "  </thead>\n",
       "  <tbody>\n",
       "    <tr>\n",
       "      <th>0</th>\n",
       "      <td>61e75e34dfb86b018a0d7cf7</td>\n",
       "      <td>Minneapolis-St. Paul-Bloomington, MN-WI</td>\n",
       "      <td>CNA</td>\n",
       "      <td>1/19/22</td>\n",
       "      <td>5/24/22</td>\n",
       "      <td>5/24/22</td>\n",
       "      <td>6/1/22</td>\n",
       "      <td>49.0</td>\n",
       "      <td>None</td>\n",
       "      <td>15595984274</td>\n",
       "    </tr>\n",
       "    <tr>\n",
       "      <th>1</th>\n",
       "      <td>61f962a1d6a2b2018a8e7159</td>\n",
       "      <td>Riverside-San Bernardino-Ontario, CA</td>\n",
       "      <td>CNA</td>\n",
       "      <td>2/1/22</td>\n",
       "      <td>2/1/22</td>\n",
       "      <td>2/16/22</td>\n",
       "      <td>2/17/22</td>\n",
       "      <td>70.0</td>\n",
       "      <td>None</td>\n",
       "      <td>18530777721</td>\n",
       "    </tr>\n",
       "    <tr>\n",
       "      <th>2</th>\n",
       "      <td>626fd8342ccf7701c2d9d11d</td>\n",
       "      <td>Cleveland-Elyria, OH</td>\n",
       "      <td>CNA</td>\n",
       "      <td>5/2/22</td>\n",
       "      <td>5/2/22</td>\n",
       "      <td>5/13/22</td>\n",
       "      <td>5/15/22</td>\n",
       "      <td>23.0</td>\n",
       "      <td>None</td>\n",
       "      <td>17631861264</td>\n",
       "    </tr>\n",
       "    <tr>\n",
       "      <th>3</th>\n",
       "      <td>61fa31443e9933018b2ac502</td>\n",
       "      <td>Bucyrus-Galion, OH</td>\n",
       "      <td>CNA</td>\n",
       "      <td>2/2/22</td>\n",
       "      <td>5/11/22</td>\n",
       "      <td>5/12/22</td>\n",
       "      <td>5/12/22</td>\n",
       "      <td>37.0</td>\n",
       "      <td>None</td>\n",
       "      <td>15595984274</td>\n",
       "    </tr>\n",
       "    <tr>\n",
       "      <th>4</th>\n",
       "      <td>627f2dbe3ce6ce01bde9bd20</td>\n",
       "      <td>Phoenix-Mesa-Chandler, AZ</td>\n",
       "      <td>RN</td>\n",
       "      <td>5/14/22</td>\n",
       "      <td>5/14/22</td>\n",
       "      <td>5/18/22</td>\n",
       "      <td>5/18/22</td>\n",
       "      <td>15.0</td>\n",
       "      <td>None</td>\n",
       "      <td>18530777721</td>\n",
       "    </tr>\n",
       "  </tbody>\n",
       "</table>\n",
       "</div>"
      ],
      "text/plain": [
       "                     HCP_ID                                      MSA  \\\n",
       "0  61e75e34dfb86b018a0d7cf7  Minneapolis-St. Paul-Bloomington, MN-WI   \n",
       "1  61f962a1d6a2b2018a8e7159     Riverside-San Bernardino-Ontario, CA   \n",
       "2  626fd8342ccf7701c2d9d11d                     Cleveland-Elyria, OH   \n",
       "3  61fa31443e9933018b2ac502                       Bucyrus-Galion, OH   \n",
       "4  627f2dbe3ce6ce01bde9bd20                Phoenix-Mesa-Chandler, AZ   \n",
       "\n",
       "  QUALIFICATION CREATED_AT LICENSE_REVIEWED ONBOARD_AT FIRST_CLAIM_TIME  \\\n",
       "0           CNA    1/19/22          5/24/22    5/24/22           6/1/22   \n",
       "1           CNA     2/1/22           2/1/22    2/16/22          2/17/22   \n",
       "2           CNA     5/2/22           5/2/22    5/13/22          5/15/22   \n",
       "3           CNA     2/2/22          5/11/22    5/12/22          5/12/22   \n",
       "4            RN    5/14/22          5/14/22    5/18/22          5/18/22   \n",
       "\n",
       "   LIFETIME_SHIFTS REFERRER CAMPAIGN_KEY  \n",
       "0             49.0     None  15595984274  \n",
       "1             70.0     None  18530777721  \n",
       "2             23.0     None  17631861264  \n",
       "3             37.0     None  15595984274  \n",
       "4             15.0     None  18530777721  "
      ]
     },
     "execution_count": 9,
     "metadata": {},
     "output_type": "execute_result"
    }
   ],
   "source": [
    "# Find only active accounts made without a referral\n",
    "nonref_active = hcp1.loc[hcp1['REFERRER'] == 'None'].copy()\n",
    "nonref_active = nonref_active.reset_index(drop=True)\n",
    "nonref_active.head()"
   ]
  },
  {
   "cell_type": "code",
   "execution_count": 11,
   "metadata": {},
   "outputs": [
    {
     "name": "stdout",
     "output_type": "stream",
     "text": [
      "Average profits from nonreferred workers: 152.38260661236225\n",
      "Average shifts for nonreferred workers: 20.17105893627216\n"
     ]
    }
   ],
   "source": [
    "# Calculate avg lifetime value of non-referral active accounts\n",
    "nraa_profit = 0\n",
    "nraa_hcp = nonref_active['HCP_ID'].count()\n",
    "\n",
    "cna_rate = 5\n",
    "lvn_rate = 10\n",
    "rn_rate = 15\n",
    "\n",
    "for x in np.arange(nraa_hcp):\n",
    "    if nonref_active.iloc[x,2] == 'CNA':\n",
    "        nraa_profit += nonref_active.iloc[x,7] * cna_rate\n",
    "    elif nonref_active.iloc[x,2] == 'LVN':\n",
    "        nraa_profit += nonref_active.iloc[x,7] * lvn_rate\n",
    "    elif nonref_active.iloc[x,2] == 'RN':\n",
    "        nraa_profit += nonref_active.iloc[x,7] * rn_rate\n",
    "\n",
    "avg_nr_profit = nraa_profit / nraa_hcp\n",
    "avg_nr_shifts = nonref_active['LIFETIME_SHIFTS'].mean()\n",
    "print('Average profits from nonreferred workers: ' + str(avg_nr_profit))\n",
    "print('Average shifts for nonreferred workers: ' + str(avg_nr_shifts))"
   ]
  },
  {
   "cell_type": "code",
   "execution_count": null,
   "metadata": {},
   "outputs": [],
   "source": []
  },
  {
   "cell_type": "code",
   "execution_count": 12,
   "metadata": {},
   "outputs": [
    {
     "data": {
      "text/html": [
       "<div>\n",
       "<style scoped>\n",
       "    .dataframe tbody tr th:only-of-type {\n",
       "        vertical-align: middle;\n",
       "    }\n",
       "\n",
       "    .dataframe tbody tr th {\n",
       "        vertical-align: top;\n",
       "    }\n",
       "\n",
       "    .dataframe thead th {\n",
       "        text-align: right;\n",
       "    }\n",
       "</style>\n",
       "<table border=\"1\" class=\"dataframe\">\n",
       "  <thead>\n",
       "    <tr style=\"text-align: right;\">\n",
       "      <th></th>\n",
       "      <th>HCP_ID</th>\n",
       "      <th>MSA</th>\n",
       "      <th>QUALIFICATION</th>\n",
       "      <th>CREATED_AT</th>\n",
       "      <th>LICENSE_REVIEWED</th>\n",
       "      <th>ONBOARD_AT</th>\n",
       "      <th>FIRST_CLAIM_TIME</th>\n",
       "      <th>LIFETIME_SHIFTS</th>\n",
       "      <th>REFERRER</th>\n",
       "      <th>CAMPAIGN_KEY</th>\n",
       "    </tr>\n",
       "  </thead>\n",
       "  <tbody>\n",
       "    <tr>\n",
       "      <th>0</th>\n",
       "      <td>62b2499e52b98c01b901cd9d</td>\n",
       "      <td>Chicago-Naperville-Elgin, IL-IN-WI</td>\n",
       "      <td>RN</td>\n",
       "      <td>6/21/22</td>\n",
       "      <td>6/22/22</td>\n",
       "      <td>6/22/22</td>\n",
       "      <td>6/29/22</td>\n",
       "      <td>2.0</td>\n",
       "      <td>62a48ae5691b0409a3c93073</td>\n",
       "      <td>16802693037</td>\n",
       "    </tr>\n",
       "    <tr>\n",
       "      <th>1</th>\n",
       "      <td>62499dd3db204601acbd8311</td>\n",
       "      <td>Deltona-Daytona Beach-Ormond Beach, FL</td>\n",
       "      <td>CNA</td>\n",
       "      <td>4/3/22</td>\n",
       "      <td>4/3/22</td>\n",
       "      <td>4/3/22</td>\n",
       "      <td>4/3/22</td>\n",
       "      <td>2.0</td>\n",
       "      <td>623a97fbca145401acdf587c</td>\n",
       "      <td>18581898213</td>\n",
       "    </tr>\n",
       "    <tr>\n",
       "      <th>2</th>\n",
       "      <td>62695ce9a0811501b63d432a</td>\n",
       "      <td>Youngstown-Warren-Boardman, OH-PA</td>\n",
       "      <td>CNA</td>\n",
       "      <td>4/27/22</td>\n",
       "      <td>4/27/22</td>\n",
       "      <td>4/27/22</td>\n",
       "      <td>4/29/22</td>\n",
       "      <td>22.0</td>\n",
       "      <td>618348c536650a0186fc6c50</td>\n",
       "      <td>18672087778</td>\n",
       "    </tr>\n",
       "    <tr>\n",
       "      <th>3</th>\n",
       "      <td>627bf7aeefb13c01c188a565</td>\n",
       "      <td>New York-Newark-Jersey City, NY-NJ-PA</td>\n",
       "      <td>CNA</td>\n",
       "      <td>5/11/22</td>\n",
       "      <td>5/11/22</td>\n",
       "      <td>5/11/22</td>\n",
       "      <td>5/14/22</td>\n",
       "      <td>2.0</td>\n",
       "      <td>61fd74fae8b6ff01af8d85d7</td>\n",
       "      <td>na</td>\n",
       "    </tr>\n",
       "    <tr>\n",
       "      <th>4</th>\n",
       "      <td>62476ac9ca832e01aa8d1246</td>\n",
       "      <td>Napa, CA</td>\n",
       "      <td>CNA</td>\n",
       "      <td>4/1/22</td>\n",
       "      <td>4/4/22</td>\n",
       "      <td>4/22/22</td>\n",
       "      <td>4/29/22</td>\n",
       "      <td>58.0</td>\n",
       "      <td>616453b0ac801c0169f80702</td>\n",
       "      <td>na</td>\n",
       "    </tr>\n",
       "  </tbody>\n",
       "</table>\n",
       "</div>"
      ],
      "text/plain": [
       "                     HCP_ID                                     MSA  \\\n",
       "0  62b2499e52b98c01b901cd9d      Chicago-Naperville-Elgin, IL-IN-WI   \n",
       "1  62499dd3db204601acbd8311  Deltona-Daytona Beach-Ormond Beach, FL   \n",
       "2  62695ce9a0811501b63d432a       Youngstown-Warren-Boardman, OH-PA   \n",
       "3  627bf7aeefb13c01c188a565   New York-Newark-Jersey City, NY-NJ-PA   \n",
       "4  62476ac9ca832e01aa8d1246                                Napa, CA   \n",
       "\n",
       "  QUALIFICATION CREATED_AT LICENSE_REVIEWED ONBOARD_AT FIRST_CLAIM_TIME  \\\n",
       "0            RN    6/21/22          6/22/22    6/22/22          6/29/22   \n",
       "1           CNA     4/3/22           4/3/22     4/3/22           4/3/22   \n",
       "2           CNA    4/27/22          4/27/22    4/27/22          4/29/22   \n",
       "3           CNA    5/11/22          5/11/22    5/11/22          5/14/22   \n",
       "4           CNA     4/1/22           4/4/22    4/22/22          4/29/22   \n",
       "\n",
       "   LIFETIME_SHIFTS                  REFERRER CAMPAIGN_KEY  \n",
       "0              2.0  62a48ae5691b0409a3c93073  16802693037  \n",
       "1              2.0  623a97fbca145401acdf587c  18581898213  \n",
       "2             22.0  618348c536650a0186fc6c50  18672087778  \n",
       "3              2.0  61fd74fae8b6ff01af8d85d7           na  \n",
       "4             58.0  616453b0ac801c0169f80702           na  "
      ]
     },
     "execution_count": 12,
     "metadata": {},
     "output_type": "execute_result"
    }
   ],
   "source": [
    "# Find only active accounts made WITH a referral\n",
    "ref_active = hcp1.loc[hcp1['REFERRER'] != 'None'].copy()\n",
    "ref_active = ref_active.reset_index(drop=True)\n",
    "ref_active.head()"
   ]
  },
  {
   "cell_type": "code",
   "execution_count": 14,
   "metadata": {},
   "outputs": [
    {
     "name": "stdout",
     "output_type": "stream",
     "text": [
      "Average profits from referred workers: 142.63446475195823\n",
      "Average shifts for referred workers: 20.567624020887727\n"
     ]
    }
   ],
   "source": [
    "# Calculate avg lifetime value of referral active accounts\n",
    "raa_profit = 0\n",
    "raa_hcp = ref_active['HCP_ID'].count()\n",
    "\n",
    "for x in np.arange(raa_hcp):\n",
    "    if ref_active.iloc[x,2] == 'CNA':\n",
    "        raa_profit += ref_active.iloc[x,7] * cna_rate\n",
    "    elif ref_active.iloc[x,2] == 'LVN':\n",
    "        raa_profit += ref_active.iloc[x,7] * lvn_rate\n",
    "    elif ref_active.iloc[x,2] == 'RN':\n",
    "        raa_profit += ref_active.iloc[x,7] * rn_rate\n",
    "\n",
    "avg_ref_profit = raa_profit / raa_hcp\n",
    "avg_ref_shifts = ref_active['LIFETIME_SHIFTS'].mean()\n",
    "print('Average profits from referred workers: ' + str(avg_ref_profit))\n",
    "print('Average shifts for referred workers: ' + str(avg_ref_shifts))"
   ]
  },
  {
   "cell_type": "code",
   "execution_count": null,
   "metadata": {},
   "outputs": [],
   "source": []
  },
  {
   "cell_type": "code",
   "execution_count": null,
   "metadata": {},
   "outputs": [],
   "source": []
  },
  {
   "cell_type": "code",
   "execution_count": null,
   "metadata": {},
   "outputs": [],
   "source": []
  },
  {
   "cell_type": "markdown",
   "metadata": {},
   "source": [
    "# Set up data for LA and Nashville analysis"
   ]
  },
  {
   "cell_type": "code",
   "execution_count": null,
   "metadata": {},
   "outputs": [],
   "source": [
    "# Find unique values for MSA\n",
    "hcp['MSA'].value_counts()"
   ]
  },
  {
   "cell_type": "code",
   "execution_count": null,
   "metadata": {},
   "outputs": [],
   "source": [
    "# Splitting MSA into state for easier filtering below\n",
    "hcp[['MSA', 'state']] = hcp['MSA'].str.split(', ', 1, expand=True)\n",
    "hcp"
   ]
  },
  {
   "cell_type": "code",
   "execution_count": null,
   "metadata": {},
   "outputs": [],
   "source": [
    "# Replace empty referrers with 'None' for easier filtering later\n",
    "hcp['REFERRER'].fillna('None', inplace=True)\n",
    "hcp.head()"
   ]
  },
  {
   "cell_type": "code",
   "execution_count": null,
   "metadata": {},
   "outputs": [],
   "source": [
    "# Creating separate dataframes for California and Tennessee\n",
    "cal_hcp = hcp.loc[hcp['state']=='CA']\n",
    "ten_hcp = hcp.loc[hcp['state']=='TN']"
   ]
  },
  {
   "cell_type": "code",
   "execution_count": null,
   "metadata": {},
   "outputs": [],
   "source": [
    "# Easier to see unique values for Cal, and Ten below\n",
    "cal_hcp['MSA'].value_counts()"
   ]
  },
  {
   "cell_type": "code",
   "execution_count": null,
   "metadata": {},
   "outputs": [],
   "source": [
    "ten_hcp['MSA'].value_counts()"
   ]
  },
  {
   "cell_type": "code",
   "execution_count": null,
   "metadata": {},
   "outputs": [],
   "source": [
    "# Create LA and Nash dataframes\n",
    "la_hcp = cal_hcp.loc[cal_hcp['MSA']=='Los Angeles-Long Beach-Anaheim'].copy()\n",
    "nash_hcp = ten_hcp.loc[ten_hcp['MSA']=='Nashville-Davidson--Murfreesboro--Franklin'].copy()"
   ]
  },
  {
   "cell_type": "code",
   "execution_count": null,
   "metadata": {},
   "outputs": [],
   "source": [
    "# Remove inactive accounts and store active accounts in LA and Nash below\n",
    "la_hcp.dropna(subset = ['FIRST_SHIFT_TIME'], inplace=True)\n",
    "la_working_accounts = la_hcp['HCP_ID'].count()\n",
    "la_working_accounts"
   ]
  },
  {
   "cell_type": "code",
   "execution_count": null,
   "metadata": {},
   "outputs": [],
   "source": [
    "nash_hcp.dropna(subset = ['FIRST_SHIFT_TIME'], inplace=True)\n",
    "nash_working_accounts = nash_hcp['HCP_ID'].count()\n",
    "nash_working_accounts"
   ]
  },
  {
   "cell_type": "markdown",
   "metadata": {},
   "source": [
    "# Calculating return for referral vs non in LA"
   ]
  },
  {
   "cell_type": "code",
   "execution_count": null,
   "metadata": {},
   "outputs": [],
   "source": [
    "# Find active accounts made without a referral\n",
    "la_nonref_active = la_hcp.loc[la_hcp['REFERRER']=='None'].copy()\n",
    "la_nonref_active.dropna(subset = ['FIRST_SHIFT_TIME'], inplace=True)\n",
    "la_nonref_active = la_nonref_active.reset_index(drop=True)\n",
    "la_nonref_active.head()"
   ]
  },
  {
   "cell_type": "code",
   "execution_count": null,
   "metadata": {},
   "outputs": [],
   "source": [
    "# Calculate avg lifetime value of non-referral active accounts\n",
    "la_nraa_profit = 0\n",
    "la_nraa_hcp = la_nonref_active['HCP_ID'].count()\n",
    "\n",
    "cna_rate = 5\n",
    "lvn_rate = 10\n",
    "rn_rate = 15\n",
    "\n",
    "for x in np.arange(la_nraa_hcp):\n",
    "    if la_nonref_active.iloc[x,2] == 'CNA':\n",
    "        la_nraa_profit += la_nonref_active.iloc[x,8] * cna_rate\n",
    "    elif la_nonref_active.iloc[x,2] == 'LVN':\n",
    "        la_nraa_profit += la_nonref_active.iloc[x,8] * lvn_rate\n",
    "    elif la_nonref_active.iloc[x,2] == 'RN':\n",
    "        la_nraa_profit += la_nonref_active.iloc[x,8] * rn_rate\n",
    "\n",
    "la_avg_nr_profit = la_nraa_profit / la_nraa_hcp\n",
    "la_avg_nr_shifts = "
   ]
  },
  {
   "cell_type": "code",
   "execution_count": null,
   "metadata": {},
   "outputs": [],
   "source": [
    "# Find active accounts made WITH a referral\n",
    "la_ref_active = la_hcp.loc[la_hcp['REFERRER']!='None'].copy()\n",
    "la_ref_active.dropna(subset = ['FIRST_SHIFT_TIME'], inplace=True)\n",
    "la_ref_active = la_ref_active.reset_index(drop=True)\n",
    "la_ref_active.head()"
   ]
  },
  {
   "cell_type": "code",
   "execution_count": null,
   "metadata": {},
   "outputs": [],
   "source": [
    "la_raa_profit = 0\n",
    "la_raa_hcp = la_ref_active['HCP_ID'].count()\n",
    "\n",
    "cna_rate = 5\n",
    "lvn_rate = 10\n",
    "rn_rate = 15\n",
    "\n",
    "for x in np.arange(la_raa_hcp):\n",
    "    if la_ref_active.iloc[x,2] == 'CNA':\n",
    "        la_raa_profit += la_ref_active.iloc[x,8] * cna_rate\n",
    "    elif la_ref_active.iloc[x,2] == 'LVN':\n",
    "        la_raa_profit += la_ref_active.iloc[x,8] * lvn_rate\n",
    "    elif la_ref_active.iloc[x,2] == 'RN':\n",
    "        la_raa_profit += la_ref_active.iloc[x,8] * rn_rate\n",
    "\n",
    "la_raa_profit / la_raa_hcp"
   ]
  },
  {
   "cell_type": "markdown",
   "metadata": {},
   "source": [
    "# Calculating return for referral vs non in Nash"
   ]
  },
  {
   "cell_type": "code",
   "execution_count": null,
   "metadata": {},
   "outputs": [],
   "source": [
    "# Find active accounts made without a referral\n",
    "nash_nonref_active = nash_hcp.loc[nash_hcp['REFERRER']=='None'].copy()\n",
    "nash_nonref_active.dropna(subset = ['FIRST_SHIFT_TIME'], inplace=True)\n",
    "nash_nonref_active = nash_nonref_active.reset_index(drop=True)\n",
    "nash_nonref_active.head()"
   ]
  },
  {
   "cell_type": "code",
   "execution_count": null,
   "metadata": {},
   "outputs": [],
   "source": [
    "# Calculate avg lifetime value of non-referral active accounts\n",
    "nash_nraa_profit = 0\n",
    "nash_nraa_hcp = nash_nonref_active['HCP_ID'].count()\n",
    "\n",
    "cna_rate = 5\n",
    "lvn_rate = 10\n",
    "rn_rate = 15\n",
    "\n",
    "for x in np.arange(nash_nraa_hcp):\n",
    "    if nash_nonref_active.iloc[x,2] == 'CNA':\n",
    "        nash_nraa_profit += nash_nonref_active.iloc[x,8] * cna_rate\n",
    "    elif nash_nonref_active.iloc[x,2] == 'LVN':\n",
    "        nash_nraa_profit += nash_nonref_active.iloc[x,8] * lvn_rate\n",
    "    elif nash_nonref_active.iloc[x,2] == 'RN':\n",
    "        nash_nraa_profit += nash_nonref_active.iloc[x,8] * rn_rate\n",
    "\n",
    "nash_nraa_profit / nash_nraa_hcp"
   ]
  },
  {
   "cell_type": "code",
   "execution_count": null,
   "metadata": {},
   "outputs": [],
   "source": [
    "# Find active accounts made WITH a referral\n",
    "nash_ref_active = nash_hcp.loc[nash_hcp['REFERRER']!='None'].copy()\n",
    "nash_ref_active.dropna(subset = ['FIRST_SHIFT_TIME'], inplace=True)\n",
    "nash_ref_active = nash_ref_active.reset_index(drop=True)\n",
    "nash_ref_active.head()"
   ]
  },
  {
   "cell_type": "code",
   "execution_count": null,
   "metadata": {},
   "outputs": [],
   "source": [
    "nash_raa_profit = 0\n",
    "nash_raa_hcp = nash_ref_active['HCP_ID'].count()\n",
    "\n",
    "cna_rate = 5\n",
    "lvn_rate = 10\n",
    "rn_rate = 15\n",
    "\n",
    "for x in np.arange(nash_raa_hcp):\n",
    "    if nash_ref_active.iloc[x,2] == 'CNA':\n",
    "        nash_raa_profit += nash_ref_active.iloc[x,8] * cna_rate\n",
    "    elif nash_ref_active.iloc[x,2] == 'LVN':\n",
    "        nash_raa_profit += nash_ref_active.iloc[x,8] * lvn_rate\n",
    "    elif nash_ref_active.iloc[x,2] == 'RN':\n",
    "        nash_raa_profit += nash_ref_active.iloc[x,8] * rn_rate\n",
    "\n",
    "nash_raa_profit / nash_raa_hcp"
   ]
  },
  {
   "cell_type": "code",
   "execution_count": null,
   "metadata": {},
   "outputs": [],
   "source": []
  },
  {
   "cell_type": "code",
   "execution_count": null,
   "metadata": {},
   "outputs": [],
   "source": []
  },
  {
   "cell_type": "code",
   "execution_count": null,
   "metadata": {},
   "outputs": [],
   "source": []
  },
  {
   "cell_type": "code",
   "execution_count": null,
   "metadata": {},
   "outputs": [],
   "source": []
  },
  {
   "cell_type": "code",
   "execution_count": null,
   "metadata": {},
   "outputs": [],
   "source": []
  },
  {
   "cell_type": "code",
   "execution_count": null,
   "metadata": {},
   "outputs": [],
   "source": []
  },
  {
   "cell_type": "code",
   "execution_count": null,
   "metadata": {},
   "outputs": [],
   "source": [
    "# Create LA and Nash dataframes again\n",
    "la_hcp = cal_hcp.loc[cal_hcp['MSA']=='Los Angeles-Long Beach-Anaheim'].copy()\n",
    "nash_hcp = ten_hcp.loc[ten_hcp['MSA']=='Nashville-Davidson--Murfreesboro--Franklin'].copy()"
   ]
  },
  {
   "cell_type": "code",
   "execution_count": null,
   "metadata": {},
   "outputs": [],
   "source": [
    "# Remove accounts without referrals. Store count of remaining referral accounts\n",
    "la_hcp.dropna(subset = ['REFERRER'], inplace=True)\n",
    "la_refer_accounts = la_hcp['REFERRER'].count()\n",
    "la_refer_accounts"
   ]
  },
  {
   "cell_type": "code",
   "execution_count": null,
   "metadata": {},
   "outputs": [],
   "source": [
    "nash_hcp.dropna(subset = ['REFERRER'], inplace=True)\n",
    "nash_refer_accounts = nash_hcp['REFERRER'].count()\n",
    "nash_refer_accounts"
   ]
  },
  {
   "cell_type": "code",
   "execution_count": null,
   "metadata": {},
   "outputs": [],
   "source": [
    "# Store number of converted referrals for both LA and Nash\n",
    "la_hcp.dropna(subset = ['FIRST_SHIFT_TIME'], inplace=True)\n",
    "nash_hcp.dropna(subset = ['FIRST_SHIFT_TIME'], inplace=True)\n",
    "la_conv_refers = la_hcp['REFERRER'].count()\n",
    "nash_conv_refers = nash_hcp['REFERRER'].count()\n",
    "la_conv_refers"
   ]
  },
  {
   "cell_type": "code",
   "execution_count": null,
   "metadata": {},
   "outputs": [],
   "source": [
    "la_ref_conv_rate = la_conv_refers / la_refer_accounts\n",
    "nash_ref_conv_rate = nash_conv_refers / nash_refer_accounts\n",
    "print(la_ref_conv_rate)\n",
    "print(nash_ref_conv_rate)"
   ]
  },
  {
   "cell_type": "code",
   "execution_count": null,
   "metadata": {},
   "outputs": [],
   "source": [
    "la_ref_workers = la_conv_refers / la_working_accounts\n",
    "nash_ref_workers = nash_conv_refers / nash_working_accounts\n",
    "print(la_ref_workers)\n",
    "print(nash_ref_workers)"
   ]
  },
  {
   "cell_type": "code",
   "execution_count": null,
   "metadata": {},
   "outputs": [],
   "source": [
    "la_hcp.head()"
   ]
  },
  {
   "cell_type": "code",
   "execution_count": null,
   "metadata": {},
   "outputs": [],
   "source": []
  },
  {
   "cell_type": "code",
   "execution_count": null,
   "metadata": {},
   "outputs": [],
   "source": []
  },
  {
   "cell_type": "code",
   "execution_count": null,
   "metadata": {},
   "outputs": [],
   "source": []
  },
  {
   "cell_type": "code",
   "execution_count": null,
   "metadata": {},
   "outputs": [],
   "source": []
  },
  {
   "cell_type": "code",
   "execution_count": null,
   "metadata": {},
   "outputs": [],
   "source": []
  }
 ],
 "metadata": {
  "kernelspec": {
   "display_name": "Python 3",
   "language": "python",
   "name": "python3"
  },
  "language_info": {
   "codemirror_mode": {
    "name": "ipython",
    "version": 3
   },
   "file_extension": ".py",
   "mimetype": "text/x-python",
   "name": "python",
   "nbconvert_exporter": "python",
   "pygments_lexer": "ipython3",
   "version": "3.6.8"
  }
 },
 "nbformat": 4,
 "nbformat_minor": 2
}
