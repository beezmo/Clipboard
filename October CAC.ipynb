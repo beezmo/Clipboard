{
 "cells": [
  {
   "cell_type": "code",
   "execution_count": 1,
   "metadata": {},
   "outputs": [],
   "source": [
    "import pandas as pd\n",
    "data1 = \"1_paid_marketing.csv\"\n",
    "data2 = \"2_hcp_data.csv\"\n",
    "data3 = \"3_shifts_data.csv\"\n",
    "campaigns = pd.read_csv(data1)\n",
    "hcp = pd.read_csv(data2)\n",
    "shifts = pd.read_csv(data3)"
   ]
  },
  {
   "cell_type": "code",
   "execution_count": 2,
   "metadata": {},
   "outputs": [
    {
     "data": {
      "text/html": [
       "<div>\n",
       "<style scoped>\n",
       "    .dataframe tbody tr th:only-of-type {\n",
       "        vertical-align: middle;\n",
       "    }\n",
       "\n",
       "    .dataframe tbody tr th {\n",
       "        vertical-align: top;\n",
       "    }\n",
       "\n",
       "    .dataframe thead th {\n",
       "        text-align: right;\n",
       "    }\n",
       "</style>\n",
       "<table border=\"1\" class=\"dataframe\">\n",
       "  <thead>\n",
       "    <tr style=\"text-align: right;\">\n",
       "      <th></th>\n",
       "      <th>CAMPAIGN_ID</th>\n",
       "      <th>CAMPAIGN_TYPE</th>\n",
       "      <th>DAY</th>\n",
       "      <th>COST</th>\n",
       "      <th>IMPRESSIONS</th>\n",
       "      <th>CLICKS</th>\n",
       "    </tr>\n",
       "  </thead>\n",
       "  <tbody>\n",
       "    <tr>\n",
       "      <th>0</th>\n",
       "      <td>13743509691</td>\n",
       "      <td>Google Search</td>\n",
       "      <td>9/1/22</td>\n",
       "      <td>$199.36</td>\n",
       "      <td>1,184</td>\n",
       "      <td>57</td>\n",
       "    </tr>\n",
       "    <tr>\n",
       "      <th>1</th>\n",
       "      <td>13743509691</td>\n",
       "      <td>Google Search</td>\n",
       "      <td>9/3/22</td>\n",
       "      <td>$108.69</td>\n",
       "      <td>105</td>\n",
       "      <td>31</td>\n",
       "    </tr>\n",
       "    <tr>\n",
       "      <th>2</th>\n",
       "      <td>13743509691</td>\n",
       "      <td>Google Search</td>\n",
       "      <td>9/4/22</td>\n",
       "      <td>$188.79</td>\n",
       "      <td>794</td>\n",
       "      <td>49</td>\n",
       "    </tr>\n",
       "    <tr>\n",
       "      <th>3</th>\n",
       "      <td>13743509691</td>\n",
       "      <td>Google Search</td>\n",
       "      <td>9/5/22</td>\n",
       "      <td>$198.47</td>\n",
       "      <td>1,069</td>\n",
       "      <td>52</td>\n",
       "    </tr>\n",
       "    <tr>\n",
       "      <th>4</th>\n",
       "      <td>13743509691</td>\n",
       "      <td>Google Search</td>\n",
       "      <td>9/8/22</td>\n",
       "      <td>$900.51</td>\n",
       "      <td>2,979</td>\n",
       "      <td>213</td>\n",
       "    </tr>\n",
       "  </tbody>\n",
       "</table>\n",
       "</div>"
      ],
      "text/plain": [
       "   CAMPAIGN_ID  CAMPAIGN_TYPE     DAY      COST   IMPRESSIONS   CLICKS \n",
       "0  13743509691  Google Search  9/1/22   $199.36         1,184       57 \n",
       "1  13743509691  Google Search  9/3/22   $108.69           105       31 \n",
       "2  13743509691  Google Search  9/4/22   $188.79           794       49 \n",
       "3  13743509691  Google Search  9/5/22   $198.47         1,069       52 \n",
       "4  13743509691  Google Search  9/8/22   $900.51         2,979      213 "
      ]
     },
     "execution_count": 2,
     "metadata": {},
     "output_type": "execute_result"
    }
   ],
   "source": [
    "campaigns.head()"
   ]
  },
  {
   "cell_type": "code",
   "execution_count": 3,
   "metadata": {},
   "outputs": [
    {
     "data": {
      "text/plain": [
       "Index(['CAMPAIGN_ID', 'CAMPAIGN_TYPE', 'DAY', ' COST ', ' IMPRESSIONS ',\n",
       "       ' CLICKS '],\n",
       "      dtype='object')"
      ]
     },
     "execution_count": 3,
     "metadata": {},
     "output_type": "execute_result"
    }
   ],
   "source": [
    "campaigns.columns"
   ]
  },
  {
   "cell_type": "code",
   "execution_count": 4,
   "metadata": {},
   "outputs": [],
   "source": [
    "# Remove unnecessary columns\n",
    "del campaigns['CAMPAIGN_TYPE']\n",
    "del campaigns[' IMPRESSIONS ']\n",
    "del campaigns[' CLICKS ']\n",
    "\n",
    "\n",
    "# Rename column\n",
    "campaigns = campaigns.rename(columns={' COST ':'COST'})"
   ]
  },
  {
   "cell_type": "code",
   "execution_count": 5,
   "metadata": {},
   "outputs": [
    {
     "data": {
      "text/plain": [
       "CAMPAIGN_ID    3202\n",
       "DAY            3202\n",
       "COST           3202\n",
       "dtype: int64"
      ]
     },
     "execution_count": 5,
     "metadata": {},
     "output_type": "execute_result"
    }
   ],
   "source": [
    "campaigns.count()"
   ]
  },
  {
   "cell_type": "code",
   "execution_count": 6,
   "metadata": {},
   "outputs": [
    {
     "data": {
      "text/plain": [
       "CAMPAIGN_ID    0\n",
       "DAY            0\n",
       "COST           0\n",
       "dtype: int64"
      ]
     },
     "execution_count": 6,
     "metadata": {},
     "output_type": "execute_result"
    }
   ],
   "source": [
    "campaigns.isnull().sum()"
   ]
  },
  {
   "cell_type": "code",
   "execution_count": 7,
   "metadata": {},
   "outputs": [
    {
     "data": {
      "text/plain": [
       "CAMPAIGN_ID    object\n",
       "DAY            object\n",
       "COST           object\n",
       "dtype: object"
      ]
     },
     "execution_count": 7,
     "metadata": {},
     "output_type": "execute_result"
    }
   ],
   "source": [
    "# Check datatype of each column\n",
    "campaigns.dtypes"
   ]
  },
  {
   "cell_type": "code",
   "execution_count": 8,
   "metadata": {},
   "outputs": [
    {
     "name": "stdout",
     "output_type": "stream",
     "text": [
      "False    3202\n",
      "Name: DAY, dtype: int64\n",
      "True    3202\n",
      "Name: COST, dtype: int64\n"
     ]
    }
   ],
   "source": [
    "# Check if data can be converted to new datatype\n",
    "print(pd.to_datetime(campaigns['DAY'], errors='coerce').isnull().value_counts())\n",
    "print(pd.to_numeric(campaigns['COST'], errors='coerce').isnull().value_counts())"
   ]
  },
  {
   "cell_type": "code",
   "execution_count": 9,
   "metadata": {},
   "outputs": [
    {
     "ename": "ValueError",
     "evalue": "Unable to parse string \" $199.36 \" at position 0",
     "output_type": "error",
     "traceback": [
      "\u001b[1;31m---------------------------------------------------------------------------\u001b[0m",
      "\u001b[1;31mValueError\u001b[0m                                Traceback (most recent call last)",
      "\u001b[1;32mpandas/_libs/lib.pyx\u001b[0m in \u001b[0;36mpandas._libs.lib.maybe_convert_numeric\u001b[1;34m()\u001b[0m\n",
      "\u001b[1;31mValueError\u001b[0m: Unable to parse string \" $199.36 \"",
      "\nDuring handling of the above exception, another exception occurred:\n",
      "\u001b[1;31mValueError\u001b[0m                                Traceback (most recent call last)",
      "\u001b[1;32m<ipython-input-9-f62c83794630>\u001b[0m in \u001b[0;36m<module>\u001b[1;34m\u001b[0m\n\u001b[0;32m      1\u001b[0m \u001b[1;31m# If errors above, check for cause\u001b[0m\u001b[1;33m\u001b[0m\u001b[1;33m\u001b[0m\u001b[1;33m\u001b[0m\u001b[0m\n\u001b[1;32m----> 2\u001b[1;33m \u001b[0mprint\u001b[0m\u001b[1;33m(\u001b[0m\u001b[0mpd\u001b[0m\u001b[1;33m.\u001b[0m\u001b[0mto_numeric\u001b[0m\u001b[1;33m(\u001b[0m\u001b[0mcampaigns\u001b[0m\u001b[1;33m[\u001b[0m\u001b[1;34m'COST'\u001b[0m\u001b[1;33m]\u001b[0m\u001b[1;33m,\u001b[0m \u001b[0merrors\u001b[0m\u001b[1;33m=\u001b[0m\u001b[1;34m'raise'\u001b[0m\u001b[1;33m)\u001b[0m\u001b[1;33m)\u001b[0m\u001b[1;33m\u001b[0m\u001b[1;33m\u001b[0m\u001b[0m\n\u001b[0m",
      "\u001b[1;32m~\\Miniconda3\\envs\\PythonData\\lib\\site-packages\\pandas\\core\\tools\\numeric.py\u001b[0m in \u001b[0;36mto_numeric\u001b[1;34m(arg, errors, downcast)\u001b[0m\n\u001b[0;32m    133\u001b[0m             \u001b[0mcoerce_numeric\u001b[0m \u001b[1;33m=\u001b[0m \u001b[1;32mFalse\u001b[0m \u001b[1;32mif\u001b[0m \u001b[0merrors\u001b[0m \u001b[1;32min\u001b[0m \u001b[1;33m(\u001b[0m\u001b[1;34m'ignore'\u001b[0m\u001b[1;33m,\u001b[0m \u001b[1;34m'raise'\u001b[0m\u001b[1;33m)\u001b[0m \u001b[1;32melse\u001b[0m \u001b[1;32mTrue\u001b[0m\u001b[1;33m\u001b[0m\u001b[1;33m\u001b[0m\u001b[0m\n\u001b[0;32m    134\u001b[0m             values = lib.maybe_convert_numeric(values, set(),\n\u001b[1;32m--> 135\u001b[1;33m                                                coerce_numeric=coerce_numeric)\n\u001b[0m\u001b[0;32m    136\u001b[0m \u001b[1;33m\u001b[0m\u001b[0m\n\u001b[0;32m    137\u001b[0m     \u001b[1;32mexcept\u001b[0m \u001b[0mException\u001b[0m\u001b[1;33m:\u001b[0m\u001b[1;33m\u001b[0m\u001b[1;33m\u001b[0m\u001b[0m\n",
      "\u001b[1;32mpandas/_libs/lib.pyx\u001b[0m in \u001b[0;36mpandas._libs.lib.maybe_convert_numeric\u001b[1;34m()\u001b[0m\n",
      "\u001b[1;31mValueError\u001b[0m: Unable to parse string \" $199.36 \" at position 0"
     ]
    }
   ],
   "source": [
    "# If errors above, check for cause\n",
    "print(pd.to_numeric(campaigns['COST'], errors='raise'))"
   ]
  },
  {
   "cell_type": "code",
   "execution_count": 10,
   "metadata": {},
   "outputs": [],
   "source": [
    "# Fix errors\n",
    "campaigns['COST'] = campaigns['COST'].str.replace('$','')\n",
    "campaigns['COST'] = campaigns['COST'].str.replace(',','')"
   ]
  },
  {
   "cell_type": "code",
   "execution_count": 11,
   "metadata": {},
   "outputs": [
    {
     "name": "stdout",
     "output_type": "stream",
     "text": [
      "False    3202\n",
      "Name: DAY, dtype: int64\n",
      "False    3202\n",
      "Name: COST, dtype: int64\n"
     ]
    }
   ],
   "source": [
    "# Confirm errors are resolved\n",
    "print(pd.to_datetime(campaigns['DAY'], errors='coerce').isnull().value_counts())\n",
    "print(pd.to_numeric(campaigns['COST'], errors='coerce').isnull().value_counts())"
   ]
  },
  {
   "cell_type": "code",
   "execution_count": 12,
   "metadata": {},
   "outputs": [
    {
     "name": "stdout",
     "output_type": "stream",
     "text": [
      "CAMPAIGN_ID    0\n",
      "DAY            0\n",
      "COST           0\n",
      "dtype: int64\n",
      "(3202, 3)\n",
      "CAMPAIGN_ID            object\n",
      "DAY            datetime64[ns]\n",
      "COST                  float64\n",
      "dtype: object\n"
     ]
    }
   ],
   "source": [
    "# Confirm datatype conversion\n",
    "campaigns.DAY = pd.to_datetime(campaigns['DAY'], errors='coerce')\n",
    "campaigns.COST = pd.to_numeric(campaigns['COST'], errors='coerce')\n",
    "\n",
    "print(campaigns.isnull().sum())\n",
    "print(campaigns.shape)\n",
    "print(campaigns.dtypes)"
   ]
  },
  {
   "cell_type": "code",
   "execution_count": 13,
   "metadata": {},
   "outputs": [
    {
     "data": {
      "text/html": [
       "<div>\n",
       "<style scoped>\n",
       "    .dataframe tbody tr th:only-of-type {\n",
       "        vertical-align: middle;\n",
       "    }\n",
       "\n",
       "    .dataframe tbody tr th {\n",
       "        vertical-align: top;\n",
       "    }\n",
       "\n",
       "    .dataframe thead th {\n",
       "        text-align: right;\n",
       "    }\n",
       "</style>\n",
       "<table border=\"1\" class=\"dataframe\">\n",
       "  <thead>\n",
       "    <tr style=\"text-align: right;\">\n",
       "      <th></th>\n",
       "      <th>CAMPAIGN_ID</th>\n",
       "      <th>DAY</th>\n",
       "      <th>COST</th>\n",
       "    </tr>\n",
       "  </thead>\n",
       "  <tbody>\n",
       "    <tr>\n",
       "      <th>0</th>\n",
       "      <td>13743509691</td>\n",
       "      <td>2022-09-01</td>\n",
       "      <td>199.36</td>\n",
       "    </tr>\n",
       "    <tr>\n",
       "      <th>1</th>\n",
       "      <td>13743509691</td>\n",
       "      <td>2022-09-03</td>\n",
       "      <td>108.69</td>\n",
       "    </tr>\n",
       "    <tr>\n",
       "      <th>2</th>\n",
       "      <td>13743509691</td>\n",
       "      <td>2022-09-04</td>\n",
       "      <td>188.79</td>\n",
       "    </tr>\n",
       "    <tr>\n",
       "      <th>3</th>\n",
       "      <td>13743509691</td>\n",
       "      <td>2022-09-05</td>\n",
       "      <td>198.47</td>\n",
       "    </tr>\n",
       "    <tr>\n",
       "      <th>4</th>\n",
       "      <td>13743509691</td>\n",
       "      <td>2022-09-08</td>\n",
       "      <td>900.51</td>\n",
       "    </tr>\n",
       "  </tbody>\n",
       "</table>\n",
       "</div>"
      ],
      "text/plain": [
       "   CAMPAIGN_ID        DAY    COST\n",
       "0  13743509691 2022-09-01  199.36\n",
       "1  13743509691 2022-09-03  108.69\n",
       "2  13743509691 2022-09-04  188.79\n",
       "3  13743509691 2022-09-05  198.47\n",
       "4  13743509691 2022-09-08  900.51"
      ]
     },
     "execution_count": 13,
     "metadata": {},
     "output_type": "execute_result"
    }
   ],
   "source": [
    "campaigns.head()"
   ]
  },
  {
   "cell_type": "code",
   "execution_count": 14,
   "metadata": {},
   "outputs": [
    {
     "name": "stdout",
     "output_type": "stream",
     "text": [
      "CAMPAIGN_ID    1260\n",
      "COST           1260\n",
      "dtype: int64\n"
     ]
    }
   ],
   "source": [
    "# Reset index to date and filter only October dates to new df\n",
    "campaigns = campaigns.set_index('DAY')\n",
    "oct_campaigns = campaigns.loc['2022-10']\n",
    "print(oct_campaigns.count())"
   ]
  },
  {
   "cell_type": "code",
   "execution_count": 15,
   "metadata": {},
   "outputs": [
    {
     "data": {
      "text/html": [
       "<div>\n",
       "<style scoped>\n",
       "    .dataframe tbody tr th:only-of-type {\n",
       "        vertical-align: middle;\n",
       "    }\n",
       "\n",
       "    .dataframe tbody tr th {\n",
       "        vertical-align: top;\n",
       "    }\n",
       "\n",
       "    .dataframe thead th {\n",
       "        text-align: right;\n",
       "    }\n",
       "</style>\n",
       "<table border=\"1\" class=\"dataframe\">\n",
       "  <thead>\n",
       "    <tr style=\"text-align: right;\">\n",
       "      <th></th>\n",
       "      <th>CAMPAIGN_ID</th>\n",
       "      <th>COST</th>\n",
       "    </tr>\n",
       "    <tr>\n",
       "      <th>DAY</th>\n",
       "      <th></th>\n",
       "      <th></th>\n",
       "    </tr>\n",
       "  </thead>\n",
       "  <tbody>\n",
       "    <tr>\n",
       "      <th>2022-10-01</th>\n",
       "      <td>13743509691</td>\n",
       "      <td>309.91</td>\n",
       "    </tr>\n",
       "    <tr>\n",
       "      <th>2022-10-02</th>\n",
       "      <td>13743509691</td>\n",
       "      <td>320.63</td>\n",
       "    </tr>\n",
       "    <tr>\n",
       "      <th>2022-10-03</th>\n",
       "      <td>13743509691</td>\n",
       "      <td>446.41</td>\n",
       "    </tr>\n",
       "    <tr>\n",
       "      <th>2022-10-06</th>\n",
       "      <td>13743509691</td>\n",
       "      <td>335.31</td>\n",
       "    </tr>\n",
       "    <tr>\n",
       "      <th>2022-10-08</th>\n",
       "      <td>13743509691</td>\n",
       "      <td>277.07</td>\n",
       "    </tr>\n",
       "  </tbody>\n",
       "</table>\n",
       "</div>"
      ],
      "text/plain": [
       "            CAMPAIGN_ID    COST\n",
       "DAY                            \n",
       "2022-10-01  13743509691  309.91\n",
       "2022-10-02  13743509691  320.63\n",
       "2022-10-03  13743509691  446.41\n",
       "2022-10-06  13743509691  335.31\n",
       "2022-10-08  13743509691  277.07"
      ]
     },
     "execution_count": 15,
     "metadata": {},
     "output_type": "execute_result"
    }
   ],
   "source": [
    "oct_campaigns.head()"
   ]
  },
  {
   "cell_type": "code",
   "execution_count": 16,
   "metadata": {},
   "outputs": [
    {
     "data": {
      "text/plain": [
       "815061.3"
      ]
     },
     "execution_count": 16,
     "metadata": {},
     "output_type": "execute_result"
    }
   ],
   "source": [
    "# Calculate total spent in October\n",
    "oct_campaign_total = oct_campaigns['COST'].sum()\n",
    "oct_campaign_total"
   ]
  },
  {
   "cell_type": "code",
   "execution_count": 17,
   "metadata": {},
   "outputs": [
    {
     "data": {
      "text/html": [
       "<div>\n",
       "<style scoped>\n",
       "    .dataframe tbody tr th:only-of-type {\n",
       "        vertical-align: middle;\n",
       "    }\n",
       "\n",
       "    .dataframe tbody tr th {\n",
       "        vertical-align: top;\n",
       "    }\n",
       "\n",
       "    .dataframe thead th {\n",
       "        text-align: right;\n",
       "    }\n",
       "</style>\n",
       "<table border=\"1\" class=\"dataframe\">\n",
       "  <thead>\n",
       "    <tr style=\"text-align: right;\">\n",
       "      <th></th>\n",
       "      <th>HCP_ID</th>\n",
       "      <th>MSA</th>\n",
       "      <th>QUALIFICATION</th>\n",
       "      <th>CREATED_AT</th>\n",
       "      <th>LICENSE_REVIEWED</th>\n",
       "      <th>ONBOARD_AT</th>\n",
       "      <th>FIRST_CLAIM_TIME</th>\n",
       "      <th>FIRST_SHIFT_TIME</th>\n",
       "      <th>LIFETIME_SHIFTS</th>\n",
       "      <th>REFERRER</th>\n",
       "      <th>CAMPAIGN_KEY</th>\n",
       "    </tr>\n",
       "  </thead>\n",
       "  <tbody>\n",
       "    <tr>\n",
       "      <th>0</th>\n",
       "      <td>633be91bfb9a096b9e4d3a82</td>\n",
       "      <td>Wichita, KS</td>\n",
       "      <td>CNA</td>\n",
       "      <td>10/5/22</td>\n",
       "      <td>10/13/22</td>\n",
       "      <td>10/29/22</td>\n",
       "      <td>11/1/22</td>\n",
       "      <td>11/21/22</td>\n",
       "      <td>2</td>\n",
       "      <td>NaN</td>\n",
       "      <td>17631861264</td>\n",
       "    </tr>\n",
       "    <tr>\n",
       "      <th>1</th>\n",
       "      <td>632d018f9603d7808339a6bb</td>\n",
       "      <td>Tampa-St. Petersburg-Clearwater, FL</td>\n",
       "      <td>CNA</td>\n",
       "      <td>9/23/22</td>\n",
       "      <td>NaN</td>\n",
       "      <td>NaN</td>\n",
       "      <td>NaN</td>\n",
       "      <td>NaN</td>\n",
       "      <td></td>\n",
       "      <td>NaN</td>\n",
       "      <td>17631861264</td>\n",
       "    </tr>\n",
       "    <tr>\n",
       "      <th>2</th>\n",
       "      <td>6361931a7ccb0c3b06407c33</td>\n",
       "      <td>Scranton--Wilkes-Barre, PA</td>\n",
       "      <td>RN</td>\n",
       "      <td>11/1/22</td>\n",
       "      <td>11/1/22</td>\n",
       "      <td>NaN</td>\n",
       "      <td>NaN</td>\n",
       "      <td>NaN</td>\n",
       "      <td></td>\n",
       "      <td>NaN</td>\n",
       "      <td>18530777721</td>\n",
       "    </tr>\n",
       "    <tr>\n",
       "      <th>3</th>\n",
       "      <td>62feb63c88ad3001baf3108f</td>\n",
       "      <td>St. Louis, MO-IL</td>\n",
       "      <td>CNA</td>\n",
       "      <td>8/18/22</td>\n",
       "      <td>8/18/22</td>\n",
       "      <td>NaN</td>\n",
       "      <td>NaN</td>\n",
       "      <td>NaN</td>\n",
       "      <td></td>\n",
       "      <td>NaN</td>\n",
       "      <td>17631861264</td>\n",
       "    </tr>\n",
       "    <tr>\n",
       "      <th>4</th>\n",
       "      <td>63841ac43540dfe4c2ec0996</td>\n",
       "      <td>Cincinnati, OH-KY-IN</td>\n",
       "      <td>CNA</td>\n",
       "      <td>11/28/22</td>\n",
       "      <td>11/28/22</td>\n",
       "      <td>NaN</td>\n",
       "      <td>NaN</td>\n",
       "      <td>NaN</td>\n",
       "      <td></td>\n",
       "      <td>NaN</td>\n",
       "      <td>18530777721</td>\n",
       "    </tr>\n",
       "  </tbody>\n",
       "</table>\n",
       "</div>"
      ],
      "text/plain": [
       "                     HCP_ID                                  MSA  \\\n",
       "0  633be91bfb9a096b9e4d3a82                          Wichita, KS   \n",
       "1  632d018f9603d7808339a6bb  Tampa-St. Petersburg-Clearwater, FL   \n",
       "2  6361931a7ccb0c3b06407c33           Scranton--Wilkes-Barre, PA   \n",
       "3  62feb63c88ad3001baf3108f                     St. Louis, MO-IL   \n",
       "4  63841ac43540dfe4c2ec0996                 Cincinnati, OH-KY-IN   \n",
       "\n",
       "  QUALIFICATION CREATED_AT LICENSE_REVIEWED ONBOARD_AT FIRST_CLAIM_TIME  \\\n",
       "0           CNA    10/5/22         10/13/22   10/29/22          11/1/22   \n",
       "1           CNA    9/23/22              NaN        NaN              NaN   \n",
       "2            RN    11/1/22          11/1/22        NaN              NaN   \n",
       "3           CNA    8/18/22          8/18/22        NaN              NaN   \n",
       "4           CNA   11/28/22         11/28/22        NaN              NaN   \n",
       "\n",
       "  FIRST_SHIFT_TIME LIFETIME_SHIFTS REFERRER CAMPAIGN_KEY  \n",
       "0         11/21/22              2       NaN  17631861264  \n",
       "1              NaN                      NaN  17631861264  \n",
       "2              NaN                      NaN  18530777721  \n",
       "3              NaN                      NaN  17631861264  \n",
       "4              NaN                      NaN  18530777721  "
      ]
     },
     "execution_count": 17,
     "metadata": {},
     "output_type": "execute_result"
    }
   ],
   "source": [
    "hcp.head()"
   ]
  },
  {
   "cell_type": "code",
   "execution_count": 18,
   "metadata": {},
   "outputs": [
    {
     "data": {
      "text/plain": [
       "Index(['HCP_ID', 'MSA', 'QUALIFICATION', 'CREATED_AT', 'LICENSE_REVIEWED',\n",
       "       'ONBOARD_AT', 'FIRST_CLAIM_TIME', 'FIRST_SHIFT_TIME', 'LIFETIME_SHIFTS',\n",
       "       'REFERRER', 'CAMPAIGN_KEY'],\n",
       "      dtype='object')"
      ]
     },
     "execution_count": 18,
     "metadata": {},
     "output_type": "execute_result"
    }
   ],
   "source": [
    "# Check columns and datatypes\n",
    "hcp.columns"
   ]
  },
  {
   "cell_type": "code",
   "execution_count": 19,
   "metadata": {},
   "outputs": [
    {
     "data": {
      "text/plain": [
       "HCP_ID              67317\n",
       "MSA                 67317\n",
       "QUALIFICATION       67317\n",
       "CREATED_AT          67317\n",
       "LICENSE_REVIEWED    60253\n",
       "ONBOARD_AT          26805\n",
       "FIRST_CLAIM_TIME    17950\n",
       "FIRST_SHIFT_TIME    16350\n",
       "LIFETIME_SHIFTS     67317\n",
       "REFERRER             9167\n",
       "CAMPAIGN_KEY        67317\n",
       "dtype: int64"
      ]
     },
     "execution_count": 19,
     "metadata": {},
     "output_type": "execute_result"
    }
   ],
   "source": [
    "hcp.count()"
   ]
  },
  {
   "cell_type": "code",
   "execution_count": 20,
   "metadata": {},
   "outputs": [
    {
     "name": "stdout",
     "output_type": "stream",
     "text": [
      "HCP_ID                  0\n",
      "MSA                     0\n",
      "QUALIFICATION           0\n",
      "CREATED_AT              0\n",
      "LICENSE_REVIEWED     7064\n",
      "ONBOARD_AT          40512\n",
      "FIRST_CLAIM_TIME    49367\n",
      "FIRST_SHIFT_TIME    50967\n",
      "LIFETIME_SHIFTS         0\n",
      "REFERRER            58150\n",
      "CAMPAIGN_KEY            0\n",
      "dtype: int64\n"
     ]
    }
   ],
   "source": [
    "print(hcp.isnull().sum())"
   ]
  },
  {
   "cell_type": "code",
   "execution_count": 21,
   "metadata": {},
   "outputs": [
    {
     "name": "stdout",
     "output_type": "stream",
     "text": [
      "HCP_ID                 0\n",
      "MSA                    0\n",
      "QUALIFICATION          0\n",
      "CREATED_AT             0\n",
      "LICENSE_REVIEWED      38\n",
      "ONBOARD_AT           376\n",
      "FIRST_CLAIM_TIME       0\n",
      "FIRST_SHIFT_TIME       0\n",
      "LIFETIME_SHIFTS        0\n",
      "REFERRER            9809\n",
      "CAMPAIGN_KEY           0\n",
      "dtype: int64\n"
     ]
    }
   ],
   "source": [
    "# Remove all null values in first_shift_time, ie. remove registrants who never worked\n",
    "hcp.dropna(subset = ['FIRST_SHIFT_TIME'], inplace=True)\n",
    "print(hcp.isnull().sum())"
   ]
  },
  {
   "cell_type": "code",
   "execution_count": 22,
   "metadata": {},
   "outputs": [
    {
     "data": {
      "text/plain": [
       "HCP_ID              object\n",
       "MSA                 object\n",
       "QUALIFICATION       object\n",
       "CREATED_AT          object\n",
       "LICENSE_REVIEWED    object\n",
       "ONBOARD_AT          object\n",
       "FIRST_CLAIM_TIME    object\n",
       "FIRST_SHIFT_TIME    object\n",
       "LIFETIME_SHIFTS     object\n",
       "REFERRER            object\n",
       "CAMPAIGN_KEY        object\n",
       "dtype: object"
      ]
     },
     "execution_count": 22,
     "metadata": {},
     "output_type": "execute_result"
    }
   ],
   "source": [
    "hcp.dtypes"
   ]
  },
  {
   "cell_type": "code",
   "execution_count": 23,
   "metadata": {},
   "outputs": [
    {
     "name": "stdout",
     "output_type": "stream",
     "text": [
      "0         2\n",
      "7        23\n",
      "16       49\n",
      "23       13\n",
      "31        2\n",
      "36       33\n",
      "37       22\n",
      "44        6\n",
      "45       20\n",
      "51        8\n",
      "60        8\n",
      "61       70\n",
      "74        2\n",
      "80       21\n",
      "81       10\n",
      "86       17\n",
      "92       25\n",
      "93        4\n",
      "94       11\n",
      "95       21\n",
      "97       17\n",
      "105      23\n",
      "107       6\n",
      "118       6\n",
      "121      13\n",
      "122      24\n",
      "130       2\n",
      "140      10\n",
      "143      20\n",
      "154      20\n",
      "         ..\n",
      "67189    13\n",
      "67190    27\n",
      "67193    17\n",
      "67198     2\n",
      "67203    10\n",
      "67207    25\n",
      "67211    10\n",
      "67213     4\n",
      "67221     4\n",
      "67228     6\n",
      "67232    44\n",
      "67240    20\n",
      "67244    20\n",
      "67248    22\n",
      "67253     2\n",
      "67257     2\n",
      "67264    15\n",
      "67272     6\n",
      "67277    28\n",
      "67278     8\n",
      "67284    47\n",
      "67292    30\n",
      "67302    23\n",
      "67305    11\n",
      "67306    24\n",
      "67308    20\n",
      "67310    10\n",
      "67311     4\n",
      "67313    10\n",
      "67315    19\n",
      "Name: LIFETIME_SHIFTS, Length: 16350, dtype: int64\n"
     ]
    }
   ],
   "source": [
    "print(pd.to_numeric(hcp['LIFETIME_SHIFTS'], errors='raise'))"
   ]
  },
  {
   "cell_type": "code",
   "execution_count": 24,
   "metadata": {},
   "outputs": [
    {
     "name": "stdout",
     "output_type": "stream",
     "text": [
      "HCP_ID                 0\n",
      "MSA                    0\n",
      "QUALIFICATION          0\n",
      "CREATED_AT             0\n",
      "LICENSE_REVIEWED      38\n",
      "ONBOARD_AT           376\n",
      "FIRST_CLAIM_TIME       0\n",
      "FIRST_SHIFT_TIME       0\n",
      "LIFETIME_SHIFTS        0\n",
      "REFERRER            9809\n",
      "CAMPAIGN_KEY           0\n",
      "dtype: int64\n",
      "(16350, 11)\n",
      "HCP_ID                      object\n",
      "MSA                         object\n",
      "QUALIFICATION               object\n",
      "CREATED_AT          datetime64[ns]\n",
      "LICENSE_REVIEWED    datetime64[ns]\n",
      "ONBOARD_AT          datetime64[ns]\n",
      "FIRST_CLAIM_TIME    datetime64[ns]\n",
      "FIRST_SHIFT_TIME    datetime64[ns]\n",
      "LIFETIME_SHIFTS              int64\n",
      "REFERRER                    object\n",
      "CAMPAIGN_KEY                object\n",
      "dtype: object\n"
     ]
    }
   ],
   "source": [
    "hcp.CREATED_AT = pd.to_datetime(hcp['CREATED_AT'], errors='coerce')\n",
    "hcp.LICENSE_REVIEWED = pd.to_datetime(hcp['LICENSE_REVIEWED'], errors='coerce')\n",
    "hcp.ONBOARD_AT = pd.to_datetime(hcp['ONBOARD_AT'], errors='coerce')\n",
    "hcp.FIRST_CLAIM_TIME = pd.to_datetime(hcp['FIRST_CLAIM_TIME'], errors='coerce')\n",
    "hcp.FIRST_SHIFT_TIME = pd.to_datetime(hcp['FIRST_SHIFT_TIME'], errors='coerce')\n",
    "hcp.LIFETIME_SHIFTS = pd.to_numeric(hcp['LIFETIME_SHIFTS'], errors='coerce')\n",
    "\n",
    "print(hcp.isnull().sum())\n",
    "print(hcp.shape)\n",
    "print(hcp.dtypes)"
   ]
  },
  {
   "cell_type": "code",
   "execution_count": 25,
   "metadata": {},
   "outputs": [
    {
     "name": "stdout",
     "output_type": "stream",
     "text": [
      "HCP_ID              1340\n",
      "MSA                 1340\n",
      "QUALIFICATION       1340\n",
      "LICENSE_REVIEWED    1335\n",
      "ONBOARD_AT          1330\n",
      "FIRST_CLAIM_TIME    1340\n",
      "FIRST_SHIFT_TIME    1340\n",
      "LIFETIME_SHIFTS     1340\n",
      "REFERRER             650\n",
      "CAMPAIGN_KEY        1340\n",
      "dtype: int64\n"
     ]
    }
   ],
   "source": [
    "# Filter only HCP that were acquired in Oct\n",
    "hcp = hcp.set_index('CREATED_AT')\n",
    "oct_hcp = hcp.loc['2022-10']\n",
    "print(oct_hcp.count())"
   ]
  },
  {
   "cell_type": "code",
   "execution_count": 26,
   "metadata": {},
   "outputs": [
    {
     "data": {
      "text/plain": [
       "1340"
      ]
     },
     "execution_count": 26,
     "metadata": {},
     "output_type": "execute_result"
    }
   ],
   "source": [
    "# Sum of October HCP acquisitions\n",
    "oct_hcp_acq = oct_hcp['HCP_ID'].count()\n",
    "oct_hcp_acq"
   ]
  },
  {
   "cell_type": "code",
   "execution_count": 27,
   "metadata": {},
   "outputs": [
    {
     "data": {
      "text/plain": [
       "195000"
      ]
     },
     "execution_count": 27,
     "metadata": {},
     "output_type": "execute_result"
    }
   ],
   "source": [
    "# Calculate referral costs claimed\n",
    "oct_referral_cost = oct_hcp['REFERRER'].count() * 300\n",
    "oct_referral_cost"
   ]
  },
  {
   "cell_type": "code",
   "execution_count": 28,
   "metadata": {},
   "outputs": [
    {
     "data": {
      "text/plain": [
       "753.7770895522389"
      ]
     },
     "execution_count": 28,
     "metadata": {},
     "output_type": "execute_result"
    }
   ],
   "source": [
    "# Calculate CAC: (click ads + referral fees) / HCP acquired in October\n",
    "CAC = (oct_campaign_total + oct_referral_cost) / oct_hcp_acq\n",
    "CAC"
   ]
  }
 ],
 "metadata": {
  "kernelspec": {
   "display_name": "Python 3",
   "language": "python",
   "name": "python3"
  },
  "language_info": {
   "codemirror_mode": {
    "name": "ipython",
    "version": 3
   },
   "file_extension": ".py",
   "mimetype": "text/x-python",
   "name": "python",
   "nbconvert_exporter": "python",
   "pygments_lexer": "ipython3",
   "version": "3.6.8"
  }
 },
 "nbformat": 4,
 "nbformat_minor": 2
}
