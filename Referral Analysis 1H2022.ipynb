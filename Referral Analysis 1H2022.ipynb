{
 "cells": [
  {
   "cell_type": "markdown",
   "metadata": {},
   "source": [
    "# Exploring data after removing accounts where first shift occurred in 2nd half of 2022. Under theory that previous calculations penalized the referral program due to late cohorts not having enough time to take on additional shifts"
   ]
  },
  {
   "cell_type": "code",
   "execution_count": 1,
   "metadata": {},
   "outputs": [],
   "source": [
    "import pandas as pd\n",
    "import numpy as np\n",
    "data1 = \"1_paid_marketing.csv\"\n",
    "data2 = \"2_hcp_data.csv\"\n",
    "data3 = \"3_shifts_data.csv\"\n",
    "campaigns = pd.read_csv(data1)\n",
    "hcp = pd.read_csv(data2)\n",
    "shifts = pd.read_csv(data3)"
   ]
  },
  {
   "cell_type": "code",
   "execution_count": 2,
   "metadata": {},
   "outputs": [],
   "source": [
    "# Convert datatype of 'lifetime shifts' and 'first shift time'\n",
    "hcp.LIFETIME_SHIFTS = pd.to_numeric(hcp['LIFETIME_SHIFTS'], errors='coerce')\n",
    "hcp.FIRST_SHIFT_TIME = pd.to_datetime(hcp['FIRST_SHIFT_TIME'], errors='coerce')"
   ]
  },
  {
   "cell_type": "code",
   "execution_count": 3,
   "metadata": {},
   "outputs": [],
   "source": [
    "# Split up accounts based on time of first shift. Either 1st or 2nd half of 2022\n",
    "hcp = hcp.set_index('FIRST_SHIFT_TIME')\n",
    "hcp1 = hcp.loc['2022-01':'2022-06']\n",
    "hcp2 = hcp.loc['2022-07':'2022-12']"
   ]
  },
  {
   "cell_type": "code",
   "execution_count": 4,
   "metadata": {},
   "outputs": [
    {
     "name": "stdout",
     "output_type": "stream",
     "text": [
      "Avg shifts of accounts active in 1st half: 20.295779274100838\n",
      "Avg shifts of accounts active in 2nd half: 15.232385661310259\n"
     ]
    }
   ],
   "source": [
    "# Showing how accounts made active in 1st half worked more shifts\n",
    "print('Avg shifts of accounts active in 1st half: ' + str(hcp1['LIFETIME_SHIFTS'].mean()))\n",
    "print('Avg shifts of accounts active in 2nd half: ' + str(hcp2['LIFETIME_SHIFTS'].mean()))"
   ]
  },
  {
   "cell_type": "code",
   "execution_count": null,
   "metadata": {},
   "outputs": [],
   "source": []
  },
  {
   "cell_type": "code",
   "execution_count": null,
   "metadata": {},
   "outputs": [],
   "source": []
  },
  {
   "cell_type": "code",
   "execution_count": null,
   "metadata": {},
   "outputs": [],
   "source": []
  },
  {
   "cell_type": "code",
   "execution_count": null,
   "metadata": {},
   "outputs": [],
   "source": []
  },
  {
   "cell_type": "markdown",
   "metadata": {},
   "source": [
    "# Set up data for LA and Nashville analysis"
   ]
  },
  {
   "cell_type": "code",
   "execution_count": null,
   "metadata": {},
   "outputs": [],
   "source": [
    "# Find unique values for MSA\n",
    "hcp['MSA'].value_counts()"
   ]
  },
  {
   "cell_type": "code",
   "execution_count": null,
   "metadata": {},
   "outputs": [],
   "source": [
    "# Splitting MSA into state for easier filtering below\n",
    "hcp[['MSA', 'state']] = hcp['MSA'].str.split(', ', 1, expand=True)\n",
    "hcp"
   ]
  },
  {
   "cell_type": "code",
   "execution_count": null,
   "metadata": {},
   "outputs": [],
   "source": [
    "# Replace empty referrers with 'None' for easier filtering later\n",
    "hcp['REFERRER'].fillna('None', inplace=True)\n",
    "hcp.head()"
   ]
  },
  {
   "cell_type": "code",
   "execution_count": null,
   "metadata": {},
   "outputs": [],
   "source": [
    "# Creating separate dataframes for California and Tennessee\n",
    "cal_hcp = hcp.loc[hcp['state']=='CA']\n",
    "ten_hcp = hcp.loc[hcp['state']=='TN']"
   ]
  },
  {
   "cell_type": "code",
   "execution_count": null,
   "metadata": {},
   "outputs": [],
   "source": [
    "# Easier to see unique values for Cal, and Ten below\n",
    "cal_hcp['MSA'].value_counts()"
   ]
  },
  {
   "cell_type": "code",
   "execution_count": null,
   "metadata": {},
   "outputs": [],
   "source": [
    "ten_hcp['MSA'].value_counts()"
   ]
  },
  {
   "cell_type": "code",
   "execution_count": null,
   "metadata": {},
   "outputs": [],
   "source": [
    "# Create LA and Nash dataframes\n",
    "la_hcp = cal_hcp.loc[cal_hcp['MSA']=='Los Angeles-Long Beach-Anaheim'].copy()\n",
    "nash_hcp = ten_hcp.loc[ten_hcp['MSA']=='Nashville-Davidson--Murfreesboro--Franklin'].copy()"
   ]
  },
  {
   "cell_type": "code",
   "execution_count": null,
   "metadata": {},
   "outputs": [],
   "source": [
    "# Remove inactive accounts and store active accounts in LA and Nash below\n",
    "la_hcp.dropna(subset = ['FIRST_SHIFT_TIME'], inplace=True)\n",
    "la_working_accounts = la_hcp['HCP_ID'].count()\n",
    "la_working_accounts"
   ]
  },
  {
   "cell_type": "code",
   "execution_count": null,
   "metadata": {},
   "outputs": [],
   "source": [
    "nash_hcp.dropna(subset = ['FIRST_SHIFT_TIME'], inplace=True)\n",
    "nash_working_accounts = nash_hcp['HCP_ID'].count()\n",
    "nash_working_accounts"
   ]
  },
  {
   "cell_type": "markdown",
   "metadata": {},
   "source": [
    "# Calculating return for referral vs non in LA"
   ]
  },
  {
   "cell_type": "code",
   "execution_count": null,
   "metadata": {},
   "outputs": [],
   "source": [
    "# Find active accounts made without a referral\n",
    "la_nonref_active = la_hcp.loc[la_hcp['REFERRER']=='None'].copy()\n",
    "la_nonref_active.dropna(subset = ['FIRST_SHIFT_TIME'], inplace=True)\n",
    "la_nonref_active = la_nonref_active.reset_index(drop=True)\n",
    "la_nonref_active.head()"
   ]
  },
  {
   "cell_type": "code",
   "execution_count": null,
   "metadata": {},
   "outputs": [],
   "source": [
    "# Calculate avg lifetime value of non-referral active accounts\n",
    "la_nraa_profit = 0\n",
    "la_nraa_hcp = la_nonref_active['HCP_ID'].count()\n",
    "\n",
    "cna_rate = 5\n",
    "lvn_rate = 10\n",
    "rn_rate = 15\n",
    "\n",
    "for x in np.arange(la_nraa_hcp):\n",
    "    if la_nonref_active.iloc[x,2] == 'CNA':\n",
    "        la_nraa_profit += la_nonref_active.iloc[x,8] * cna_rate\n",
    "    elif la_nonref_active.iloc[x,2] == 'LVN':\n",
    "        la_nraa_profit += la_nonref_active.iloc[x,8] * lvn_rate\n",
    "    elif la_nonref_active.iloc[x,2] == 'RN':\n",
    "        la_nraa_profit += la_nonref_active.iloc[x,8] * rn_rate\n",
    "\n",
    "la_avg_nr_profit = la_nraa_profit / la_nraa_hcp\n",
    "la_avg_nr_shifts = "
   ]
  },
  {
   "cell_type": "code",
   "execution_count": null,
   "metadata": {},
   "outputs": [],
   "source": [
    "# Find active accounts made WITH a referral\n",
    "la_ref_active = la_hcp.loc[la_hcp['REFERRER']!='None'].copy()\n",
    "la_ref_active.dropna(subset = ['FIRST_SHIFT_TIME'], inplace=True)\n",
    "la_ref_active = la_ref_active.reset_index(drop=True)\n",
    "la_ref_active.head()"
   ]
  },
  {
   "cell_type": "code",
   "execution_count": null,
   "metadata": {},
   "outputs": [],
   "source": [
    "la_raa_profit = 0\n",
    "la_raa_hcp = la_ref_active['HCP_ID'].count()\n",
    "\n",
    "cna_rate = 5\n",
    "lvn_rate = 10\n",
    "rn_rate = 15\n",
    "\n",
    "for x in np.arange(la_raa_hcp):\n",
    "    if la_ref_active.iloc[x,2] == 'CNA':\n",
    "        la_raa_profit += la_ref_active.iloc[x,8] * cna_rate\n",
    "    elif la_ref_active.iloc[x,2] == 'LVN':\n",
    "        la_raa_profit += la_ref_active.iloc[x,8] * lvn_rate\n",
    "    elif la_ref_active.iloc[x,2] == 'RN':\n",
    "        la_raa_profit += la_ref_active.iloc[x,8] * rn_rate\n",
    "\n",
    "la_raa_profit / la_raa_hcp"
   ]
  },
  {
   "cell_type": "markdown",
   "metadata": {},
   "source": [
    "# Calculating return for referral vs non in Nash"
   ]
  },
  {
   "cell_type": "code",
   "execution_count": null,
   "metadata": {},
   "outputs": [],
   "source": [
    "# Find active accounts made without a referral\n",
    "nash_nonref_active = nash_hcp.loc[nash_hcp['REFERRER']=='None'].copy()\n",
    "nash_nonref_active.dropna(subset = ['FIRST_SHIFT_TIME'], inplace=True)\n",
    "nash_nonref_active = nash_nonref_active.reset_index(drop=True)\n",
    "nash_nonref_active.head()"
   ]
  },
  {
   "cell_type": "code",
   "execution_count": null,
   "metadata": {},
   "outputs": [],
   "source": [
    "# Calculate avg lifetime value of non-referral active accounts\n",
    "nash_nraa_profit = 0\n",
    "nash_nraa_hcp = nash_nonref_active['HCP_ID'].count()\n",
    "\n",
    "cna_rate = 5\n",
    "lvn_rate = 10\n",
    "rn_rate = 15\n",
    "\n",
    "for x in np.arange(nash_nraa_hcp):\n",
    "    if nash_nonref_active.iloc[x,2] == 'CNA':\n",
    "        nash_nraa_profit += nash_nonref_active.iloc[x,8] * cna_rate\n",
    "    elif nash_nonref_active.iloc[x,2] == 'LVN':\n",
    "        nash_nraa_profit += nash_nonref_active.iloc[x,8] * lvn_rate\n",
    "    elif nash_nonref_active.iloc[x,2] == 'RN':\n",
    "        nash_nraa_profit += nash_nonref_active.iloc[x,8] * rn_rate\n",
    "\n",
    "nash_nraa_profit / nash_nraa_hcp"
   ]
  },
  {
   "cell_type": "code",
   "execution_count": null,
   "metadata": {},
   "outputs": [],
   "source": [
    "# Find active accounts made WITH a referral\n",
    "nash_ref_active = nash_hcp.loc[nash_hcp['REFERRER']!='None'].copy()\n",
    "nash_ref_active.dropna(subset = ['FIRST_SHIFT_TIME'], inplace=True)\n",
    "nash_ref_active = nash_ref_active.reset_index(drop=True)\n",
    "nash_ref_active.head()"
   ]
  },
  {
   "cell_type": "code",
   "execution_count": null,
   "metadata": {},
   "outputs": [],
   "source": [
    "nash_raa_profit = 0\n",
    "nash_raa_hcp = nash_ref_active['HCP_ID'].count()\n",
    "\n",
    "cna_rate = 5\n",
    "lvn_rate = 10\n",
    "rn_rate = 15\n",
    "\n",
    "for x in np.arange(nash_raa_hcp):\n",
    "    if nash_ref_active.iloc[x,2] == 'CNA':\n",
    "        nash_raa_profit += nash_ref_active.iloc[x,8] * cna_rate\n",
    "    elif nash_ref_active.iloc[x,2] == 'LVN':\n",
    "        nash_raa_profit += nash_ref_active.iloc[x,8] * lvn_rate\n",
    "    elif nash_ref_active.iloc[x,2] == 'RN':\n",
    "        nash_raa_profit += nash_ref_active.iloc[x,8] * rn_rate\n",
    "\n",
    "nash_raa_profit / nash_raa_hcp"
   ]
  },
  {
   "cell_type": "code",
   "execution_count": null,
   "metadata": {},
   "outputs": [],
   "source": []
  },
  {
   "cell_type": "code",
   "execution_count": null,
   "metadata": {},
   "outputs": [],
   "source": []
  },
  {
   "cell_type": "code",
   "execution_count": null,
   "metadata": {},
   "outputs": [],
   "source": []
  },
  {
   "cell_type": "code",
   "execution_count": null,
   "metadata": {},
   "outputs": [],
   "source": []
  },
  {
   "cell_type": "code",
   "execution_count": null,
   "metadata": {},
   "outputs": [],
   "source": []
  },
  {
   "cell_type": "code",
   "execution_count": null,
   "metadata": {},
   "outputs": [],
   "source": []
  },
  {
   "cell_type": "code",
   "execution_count": null,
   "metadata": {},
   "outputs": [],
   "source": [
    "# Create LA and Nash dataframes again\n",
    "la_hcp = cal_hcp.loc[cal_hcp['MSA']=='Los Angeles-Long Beach-Anaheim'].copy()\n",
    "nash_hcp = ten_hcp.loc[ten_hcp['MSA']=='Nashville-Davidson--Murfreesboro--Franklin'].copy()"
   ]
  },
  {
   "cell_type": "code",
   "execution_count": null,
   "metadata": {},
   "outputs": [],
   "source": [
    "# Remove accounts without referrals. Store count of remaining referral accounts\n",
    "la_hcp.dropna(subset = ['REFERRER'], inplace=True)\n",
    "la_refer_accounts = la_hcp['REFERRER'].count()\n",
    "la_refer_accounts"
   ]
  },
  {
   "cell_type": "code",
   "execution_count": null,
   "metadata": {},
   "outputs": [],
   "source": [
    "nash_hcp.dropna(subset = ['REFERRER'], inplace=True)\n",
    "nash_refer_accounts = nash_hcp['REFERRER'].count()\n",
    "nash_refer_accounts"
   ]
  },
  {
   "cell_type": "code",
   "execution_count": null,
   "metadata": {},
   "outputs": [],
   "source": [
    "# Store number of converted referrals for both LA and Nash\n",
    "la_hcp.dropna(subset = ['FIRST_SHIFT_TIME'], inplace=True)\n",
    "nash_hcp.dropna(subset = ['FIRST_SHIFT_TIME'], inplace=True)\n",
    "la_conv_refers = la_hcp['REFERRER'].count()\n",
    "nash_conv_refers = nash_hcp['REFERRER'].count()\n",
    "la_conv_refers"
   ]
  },
  {
   "cell_type": "code",
   "execution_count": null,
   "metadata": {},
   "outputs": [],
   "source": [
    "la_ref_conv_rate = la_conv_refers / la_refer_accounts\n",
    "nash_ref_conv_rate = nash_conv_refers / nash_refer_accounts\n",
    "print(la_ref_conv_rate)\n",
    "print(nash_ref_conv_rate)"
   ]
  },
  {
   "cell_type": "code",
   "execution_count": null,
   "metadata": {},
   "outputs": [],
   "source": [
    "la_ref_workers = la_conv_refers / la_working_accounts\n",
    "nash_ref_workers = nash_conv_refers / nash_working_accounts\n",
    "print(la_ref_workers)\n",
    "print(nash_ref_workers)"
   ]
  },
  {
   "cell_type": "code",
   "execution_count": null,
   "metadata": {},
   "outputs": [],
   "source": [
    "la_hcp.head()"
   ]
  },
  {
   "cell_type": "code",
   "execution_count": null,
   "metadata": {},
   "outputs": [],
   "source": []
  },
  {
   "cell_type": "code",
   "execution_count": null,
   "metadata": {},
   "outputs": [],
   "source": []
  },
  {
   "cell_type": "code",
   "execution_count": null,
   "metadata": {},
   "outputs": [],
   "source": []
  },
  {
   "cell_type": "code",
   "execution_count": null,
   "metadata": {},
   "outputs": [],
   "source": []
  },
  {
   "cell_type": "code",
   "execution_count": null,
   "metadata": {},
   "outputs": [],
   "source": []
  }
 ],
 "metadata": {
  "kernelspec": {
   "display_name": "Python 3",
   "language": "python",
   "name": "python3"
  },
  "language_info": {
   "codemirror_mode": {
    "name": "ipython",
    "version": 3
   },
   "file_extension": ".py",
   "mimetype": "text/x-python",
   "name": "python",
   "nbconvert_exporter": "python",
   "pygments_lexer": "ipython3",
   "version": "3.6.8"
  }
 },
 "nbformat": 4,
 "nbformat_minor": 2
}
