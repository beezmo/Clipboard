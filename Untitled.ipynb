{
 "cells": [
  {
   "cell_type": "code",
   "execution_count": 1,
   "metadata": {},
   "outputs": [],
   "source": [
    "import pandas as pd\n",
    "data1 = \"1_paid_marketing.csv\"\n",
    "data2 = \"2_hcp_data.csv\"\n",
    "data3 = \"3_shifts_data.csv\"\n",
    "campaigns = pd.read_csv(data1)\n",
    "hcp = pd.read_csv(data2)\n",
    "shifts = pd.read_csv(data3)"
   ]
  },
  {
   "cell_type": "code",
   "execution_count": 2,
   "metadata": {},
   "outputs": [
    {
     "data": {
      "text/html": [
       "<div>\n",
       "<style scoped>\n",
       "    .dataframe tbody tr th:only-of-type {\n",
       "        vertical-align: middle;\n",
       "    }\n",
       "\n",
       "    .dataframe tbody tr th {\n",
       "        vertical-align: top;\n",
       "    }\n",
       "\n",
       "    .dataframe thead th {\n",
       "        text-align: right;\n",
       "    }\n",
       "</style>\n",
       "<table border=\"1\" class=\"dataframe\">\n",
       "  <thead>\n",
       "    <tr style=\"text-align: right;\">\n",
       "      <th></th>\n",
       "      <th>CAMPAIGN_ID</th>\n",
       "      <th>CAMPAIGN_TYPE</th>\n",
       "      <th>DAY</th>\n",
       "      <th>COST</th>\n",
       "      <th>IMPRESSIONS</th>\n",
       "      <th>CLICKS</th>\n",
       "    </tr>\n",
       "  </thead>\n",
       "  <tbody>\n",
       "    <tr>\n",
       "      <th>0</th>\n",
       "      <td>13743509691</td>\n",
       "      <td>Google Search</td>\n",
       "      <td>9/1/22</td>\n",
       "      <td>$199.36</td>\n",
       "      <td>1,184</td>\n",
       "      <td>57</td>\n",
       "    </tr>\n",
       "    <tr>\n",
       "      <th>1</th>\n",
       "      <td>13743509691</td>\n",
       "      <td>Google Search</td>\n",
       "      <td>9/3/22</td>\n",
       "      <td>$108.69</td>\n",
       "      <td>105</td>\n",
       "      <td>31</td>\n",
       "    </tr>\n",
       "    <tr>\n",
       "      <th>2</th>\n",
       "      <td>13743509691</td>\n",
       "      <td>Google Search</td>\n",
       "      <td>9/4/22</td>\n",
       "      <td>$188.79</td>\n",
       "      <td>794</td>\n",
       "      <td>49</td>\n",
       "    </tr>\n",
       "    <tr>\n",
       "      <th>3</th>\n",
       "      <td>13743509691</td>\n",
       "      <td>Google Search</td>\n",
       "      <td>9/5/22</td>\n",
       "      <td>$198.47</td>\n",
       "      <td>1,069</td>\n",
       "      <td>52</td>\n",
       "    </tr>\n",
       "    <tr>\n",
       "      <th>4</th>\n",
       "      <td>13743509691</td>\n",
       "      <td>Google Search</td>\n",
       "      <td>9/8/22</td>\n",
       "      <td>$900.51</td>\n",
       "      <td>2,979</td>\n",
       "      <td>213</td>\n",
       "    </tr>\n",
       "  </tbody>\n",
       "</table>\n",
       "</div>"
      ],
      "text/plain": [
       "   CAMPAIGN_ID  CAMPAIGN_TYPE     DAY      COST   IMPRESSIONS   CLICKS \n",
       "0  13743509691  Google Search  9/1/22   $199.36         1,184       57 \n",
       "1  13743509691  Google Search  9/3/22   $108.69           105       31 \n",
       "2  13743509691  Google Search  9/4/22   $188.79           794       49 \n",
       "3  13743509691  Google Search  9/5/22   $198.47         1,069       52 \n",
       "4  13743509691  Google Search  9/8/22   $900.51         2,979      213 "
      ]
     },
     "execution_count": 2,
     "metadata": {},
     "output_type": "execute_result"
    }
   ],
   "source": [
    "campaigns.head()"
   ]
  },
  {
   "cell_type": "code",
   "execution_count": 3,
   "metadata": {},
   "outputs": [
    {
     "data": {
      "text/plain": [
       "Index(['CAMPAIGN_ID', 'CAMPAIGN_TYPE', 'DAY', ' COST ', ' IMPRESSIONS ',\n",
       "       ' CLICKS '],\n",
       "      dtype='object')"
      ]
     },
     "execution_count": 3,
     "metadata": {},
     "output_type": "execute_result"
    }
   ],
   "source": [
    "campaigns.columns"
   ]
  },
  {
   "cell_type": "code",
   "execution_count": 4,
   "metadata": {},
   "outputs": [],
   "source": [
    "campaigns.drop(columns=' IMPRESSIONS ', inplace=True)\n",
    "campaigns.drop(columns=' CLICKS ', inplace=True)\n",
    "campaigns.drop(columns='CAMPAIGN_TYPE', inplace=True)"
   ]
  },
  {
   "cell_type": "code",
   "execution_count": 5,
   "metadata": {},
   "outputs": [],
   "source": [
    "campaigns = campaigns.rename(columns={' COST ':'COST'})"
   ]
  },
  {
   "cell_type": "code",
   "execution_count": 6,
   "metadata": {},
   "outputs": [
    {
     "data": {
      "text/plain": [
       "CAMPAIGN_ID    object\n",
       "DAY            object\n",
       "COST           object\n",
       "dtype: object"
      ]
     },
     "execution_count": 6,
     "metadata": {},
     "output_type": "execute_result"
    }
   ],
   "source": [
    "campaigns.dtypes"
   ]
  },
  {
   "cell_type": "code",
   "execution_count": 7,
   "metadata": {},
   "outputs": [
    {
     "name": "stdout",
     "output_type": "stream",
     "text": [
      "False    3202\n",
      "Name: DAY, dtype: int64\n",
      "True    3202\n",
      "Name: COST, dtype: int64\n"
     ]
    }
   ],
   "source": [
    "print(pd.to_datetime(campaigns['DAY'], errors='coerce').isnull().value_counts())\n",
    "print(pd.to_numeric(campaigns['COST'], errors='coerce').isnull().value_counts())"
   ]
  },
  {
   "cell_type": "code",
   "execution_count": 8,
   "metadata": {},
   "outputs": [
    {
     "ename": "ValueError",
     "evalue": "Unable to parse string \" $199.36 \" at position 0",
     "output_type": "error",
     "traceback": [
      "\u001b[1;31m---------------------------------------------------------------------------\u001b[0m",
      "\u001b[1;31mValueError\u001b[0m                                Traceback (most recent call last)",
      "\u001b[1;32mpandas/_libs/lib.pyx\u001b[0m in \u001b[0;36mpandas._libs.lib.maybe_convert_numeric\u001b[1;34m()\u001b[0m\n",
      "\u001b[1;31mValueError\u001b[0m: Unable to parse string \" $199.36 \"",
      "\nDuring handling of the above exception, another exception occurred:\n",
      "\u001b[1;31mValueError\u001b[0m                                Traceback (most recent call last)",
      "\u001b[1;32m<ipython-input-8-84ad079a0bd7>\u001b[0m in \u001b[0;36m<module>\u001b[1;34m\u001b[0m\n\u001b[1;32m----> 1\u001b[1;33m \u001b[0mprint\u001b[0m\u001b[1;33m(\u001b[0m\u001b[0mpd\u001b[0m\u001b[1;33m.\u001b[0m\u001b[0mto_numeric\u001b[0m\u001b[1;33m(\u001b[0m\u001b[0mcampaigns\u001b[0m\u001b[1;33m[\u001b[0m\u001b[1;34m'COST'\u001b[0m\u001b[1;33m]\u001b[0m\u001b[1;33m,\u001b[0m \u001b[0merrors\u001b[0m\u001b[1;33m=\u001b[0m\u001b[1;34m'raise'\u001b[0m\u001b[1;33m)\u001b[0m\u001b[1;33m)\u001b[0m\u001b[1;33m\u001b[0m\u001b[1;33m\u001b[0m\u001b[0m\n\u001b[0m",
      "\u001b[1;32m~\\Miniconda3\\envs\\PythonData\\lib\\site-packages\\pandas\\core\\tools\\numeric.py\u001b[0m in \u001b[0;36mto_numeric\u001b[1;34m(arg, errors, downcast)\u001b[0m\n\u001b[0;32m    133\u001b[0m             \u001b[0mcoerce_numeric\u001b[0m \u001b[1;33m=\u001b[0m \u001b[1;32mFalse\u001b[0m \u001b[1;32mif\u001b[0m \u001b[0merrors\u001b[0m \u001b[1;32min\u001b[0m \u001b[1;33m(\u001b[0m\u001b[1;34m'ignore'\u001b[0m\u001b[1;33m,\u001b[0m \u001b[1;34m'raise'\u001b[0m\u001b[1;33m)\u001b[0m \u001b[1;32melse\u001b[0m \u001b[1;32mTrue\u001b[0m\u001b[1;33m\u001b[0m\u001b[1;33m\u001b[0m\u001b[0m\n\u001b[0;32m    134\u001b[0m             values = lib.maybe_convert_numeric(values, set(),\n\u001b[1;32m--> 135\u001b[1;33m                                                coerce_numeric=coerce_numeric)\n\u001b[0m\u001b[0;32m    136\u001b[0m \u001b[1;33m\u001b[0m\u001b[0m\n\u001b[0;32m    137\u001b[0m     \u001b[1;32mexcept\u001b[0m \u001b[0mException\u001b[0m\u001b[1;33m:\u001b[0m\u001b[1;33m\u001b[0m\u001b[1;33m\u001b[0m\u001b[0m\n",
      "\u001b[1;32mpandas/_libs/lib.pyx\u001b[0m in \u001b[0;36mpandas._libs.lib.maybe_convert_numeric\u001b[1;34m()\u001b[0m\n",
      "\u001b[1;31mValueError\u001b[0m: Unable to parse string \" $199.36 \" at position 0"
     ]
    }
   ],
   "source": [
    "print(pd.to_numeric(campaigns['COST'], errors='raise'))"
   ]
  },
  {
   "cell_type": "code",
   "execution_count": 10,
   "metadata": {},
   "outputs": [],
   "source": [
    "campaigns['COST'] = campaigns['COST'].str.replace('$','')\n",
    "campaigns['COST'] = campaigns['COST'].str.replace(',','')"
   ]
  },
  {
   "cell_type": "code",
   "execution_count": 12,
   "metadata": {},
   "outputs": [
    {
     "name": "stdout",
     "output_type": "stream",
     "text": [
      "False    3202\n",
      "Name: DAY, dtype: int64\n",
      "False    3202\n",
      "Name: COST, dtype: int64\n"
     ]
    }
   ],
   "source": [
    "print(pd.to_datetime(campaigns['DAY'], errors='coerce').isnull().value_counts())\n",
    "print(pd.to_numeric(campaigns['COST'], errors='coerce').isnull().value_counts())"
   ]
  },
  {
   "cell_type": "code",
   "execution_count": 13,
   "metadata": {},
   "outputs": [],
   "source": [
    "\n",
    "campaigns.COST = pd.to_numeric(campaigns['COST'], errors='coerce')"
   ]
  },
  {
   "cell_type": "code",
   "execution_count": 17,
   "metadata": {},
   "outputs": [
    {
     "name": "stdout",
     "output_type": "stream",
     "text": [
      "(3202, 3)\n",
      "CAMPAIGN_ID     object\n",
      "DAY             object\n",
      "COST           float64\n",
      "dtype: object\n"
     ]
    }
   ],
   "source": [
    "print(campaigns.shape)\n",
    "print(campaigns.dtypes)"
   ]
  },
  {
   "cell_type": "code",
   "execution_count": null,
   "metadata": {},
   "outputs": [],
   "source": []
  }
 ],
 "metadata": {
  "kernelspec": {
   "display_name": "Python 3",
   "language": "python",
   "name": "python3"
  },
  "language_info": {
   "codemirror_mode": {
    "name": "ipython",
    "version": 3
   },
   "file_extension": ".py",
   "mimetype": "text/x-python",
   "name": "python",
   "nbconvert_exporter": "python",
   "pygments_lexer": "ipython3",
   "version": "3.6.8"
  }
 },
 "nbformat": 4,
 "nbformat_minor": 2
}
